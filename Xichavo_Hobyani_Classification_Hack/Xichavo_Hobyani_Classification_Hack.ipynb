{
 "cells": [
  {
   "cell_type": "markdown",
   "metadata": {},
   "source": [
    "   # LANGUAGE IDENTIFICATION CHALLENGE\n",
    "      \n",
    "\n",
    "\n",
    "\n",
    "\n",
    "# Introduction\n",
    "\n",
    "In South Africa we have 11 official languages which are all considered equal, South Africa is a multicultural society that is characterised by its rich linguistic diversity. Language is an indispensable tool that can be used to deepen democracy and also contribute to the social, cultural, intellectual, economic and political life of the South African society.\n",
    "\n",
    "Most South Africans are multilingual and able to speak at least two or more of the official languages,  With such a multilingual population, it is understandable that our systems and devices also communicate in multi-languages.\n",
    "\n",
    "In this Hackathon challenge, we will take a text that is in any  South African  Official language and identify which language the text is in. This is an example of Natural Language Processing's Language Identification, the task of determining the natural language that a piece of text is written in."
   ]
  },
  {
   "cell_type": "markdown",
   "metadata": {},
   "source": [
    "# Import Libraries"
   ]
  },
  {
   "cell_type": "code",
   "execution_count": 2,
   "metadata": {},
   "outputs": [
    {
     "name": "stdout",
     "output_type": "stream",
     "text": [
      "Requirement already satisfied: stopwordsiso in c:\\users\\cllr a matumba\\anaconda3\\lib\\site-packages (0.6.1)\n"
     ]
    },
    {
     "name": "stderr",
     "output_type": "stream",
     "text": [
      "[nltk_data] Downloading package stopwords to C:\\Users\\CLLR A\n",
      "[nltk_data]     Matumba\\AppData\\Roaming\\nltk_data...\n",
      "[nltk_data]   Package stopwords is already up-to-date!\n"
     ]
    },
    {
     "data": {
      "text/plain": [
       "True"
      ]
     },
     "execution_count": 2,
     "metadata": {},
     "output_type": "execute_result"
    }
   ],
   "source": [
    "import pandas as pd\n",
    "import numpy as np\n",
    "import nltk\n",
    "import string\n",
    "from sklearn.pipeline import Pipeline\n",
    "from nltk.tokenize import sent_tokenize\n",
    "\n",
    "# feature extractioin\n",
    "from sklearn.feature_extraction.text import CountVectorizer\n",
    "from sklearn.feature_extraction.text import TfidfVectorizer\n",
    "\n",
    "# Preprocessing\n",
    "from collections import Counter\n",
    "from nltk.corpus import wordnet\n",
    "from nltk.corpus import stopwords\n",
    "from nltk.stem import WordNetLemmatizer\n",
    "from nltk.tokenize import word_tokenize\n",
    "from sklearn.preprocessing import label_binarize\n",
    "from sklearn.model_selection import train_test_split\n",
    "\n",
    "# classification models\n",
    "from sklearn.svm import SVC\n",
    "from sklearn.svm import LinearSVC\n",
    "from sklearn.ensemble import VotingClassifier\n",
    "from sklearn.linear_model import SGDClassifier\n",
    "from sklearn.tree import DecisionTreeClassifier\n",
    "from sklearn.linear_model import RidgeClassifier\n",
    "from sklearn.multiclass import OneVsRestClassifier\n",
    "from sklearn.linear_model import LogisticRegression\n",
    "from sklearn.ensemble import RandomForestClassifier\n",
    "from sklearn.naive_bayes import MultinomialNB\n",
    "\n",
    "\n",
    "# Hyperparameter tunning methods\n",
    "from sklearn.model_selection import GridSearchCV\n",
    "\n",
    "# metrics\n",
    "\n",
    "from sklearn.metrics import f1_score\n",
    "from sklearn.metrics import accuracy_score\n",
    "from sklearn.metrics import confusion_matrix\n",
    "from sklearn.metrics import classification_report\n",
    "\n",
    "import matplotlib.pyplot as plt\n",
    "import seaborn as sns\n",
    "from scikitplot.metrics import plot_confusion_matrix\n",
    "%matplotlib inline\n",
    "\n",
    "!pip install stopwordsiso\n",
    "from nltk.corpus import stopwords\n",
    "import stopwordsiso as stopwordz\n",
    "nltk.download('stopwords')"
   ]
  },
  {
   "cell_type": "markdown",
   "metadata": {},
   "source": [
    "# Loading and processing data"
   ]
  },
  {
   "cell_type": "code",
   "execution_count": 3,
   "metadata": {},
   "outputs": [],
   "source": [
    "train = pd.read_csv('train_set.csv')\n",
    "test = pd.read_csv('test_set.csv')"
   ]
  },
  {
   "cell_type": "code",
   "execution_count": 4,
   "metadata": {},
   "outputs": [
    {
     "data": {
      "text/html": [
       "<div>\n",
       "<style scoped>\n",
       "    .dataframe tbody tr th:only-of-type {\n",
       "        vertical-align: middle;\n",
       "    }\n",
       "\n",
       "    .dataframe tbody tr th {\n",
       "        vertical-align: top;\n",
       "    }\n",
       "\n",
       "    .dataframe thead th {\n",
       "        text-align: right;\n",
       "    }\n",
       "</style>\n",
       "<table border=\"1\" class=\"dataframe\">\n",
       "  <thead>\n",
       "    <tr style=\"text-align: right;\">\n",
       "      <th></th>\n",
       "      <th>lang_id</th>\n",
       "      <th>text</th>\n",
       "    </tr>\n",
       "  </thead>\n",
       "  <tbody>\n",
       "    <tr>\n",
       "      <th>0</th>\n",
       "      <td>xho</td>\n",
       "      <td>umgaqo-siseko wenza amalungiselelo kumaziko ax...</td>\n",
       "    </tr>\n",
       "    <tr>\n",
       "      <th>1</th>\n",
       "      <td>xho</td>\n",
       "      <td>i-dha iya kuba nobulumko bokubeka umsebenzi na...</td>\n",
       "    </tr>\n",
       "    <tr>\n",
       "      <th>2</th>\n",
       "      <td>eng</td>\n",
       "      <td>the province of kwazulu-natal department of tr...</td>\n",
       "    </tr>\n",
       "    <tr>\n",
       "      <th>3</th>\n",
       "      <td>nso</td>\n",
       "      <td>o netefatša gore o ba file dilo ka moka tše le...</td>\n",
       "    </tr>\n",
       "    <tr>\n",
       "      <th>4</th>\n",
       "      <td>ven</td>\n",
       "      <td>khomishini ya ndinganyiso ya mbeu yo ewa maana...</td>\n",
       "    </tr>\n",
       "  </tbody>\n",
       "</table>\n",
       "</div>"
      ],
      "text/plain": [
       "  lang_id                                               text\n",
       "0     xho  umgaqo-siseko wenza amalungiselelo kumaziko ax...\n",
       "1     xho  i-dha iya kuba nobulumko bokubeka umsebenzi na...\n",
       "2     eng  the province of kwazulu-natal department of tr...\n",
       "3     nso  o netefatša gore o ba file dilo ka moka tše le...\n",
       "4     ven  khomishini ya ndinganyiso ya mbeu yo ewa maana..."
      ]
     },
     "execution_count": 4,
     "metadata": {},
     "output_type": "execute_result"
    }
   ],
   "source": [
    "train.head()"
   ]
  },
  {
   "cell_type": "code",
   "execution_count": 5,
   "metadata": {},
   "outputs": [
    {
     "data": {
      "text/html": [
       "<div>\n",
       "<style scoped>\n",
       "    .dataframe tbody tr th:only-of-type {\n",
       "        vertical-align: middle;\n",
       "    }\n",
       "\n",
       "    .dataframe tbody tr th {\n",
       "        vertical-align: top;\n",
       "    }\n",
       "\n",
       "    .dataframe thead th {\n",
       "        text-align: right;\n",
       "    }\n",
       "</style>\n",
       "<table border=\"1\" class=\"dataframe\">\n",
       "  <thead>\n",
       "    <tr style=\"text-align: right;\">\n",
       "      <th></th>\n",
       "      <th>index</th>\n",
       "      <th>text</th>\n",
       "    </tr>\n",
       "  </thead>\n",
       "  <tbody>\n",
       "    <tr>\n",
       "      <th>0</th>\n",
       "      <td>1</td>\n",
       "      <td>Mmasepala, fa maemo a a kgethegileng a letlele...</td>\n",
       "    </tr>\n",
       "    <tr>\n",
       "      <th>1</th>\n",
       "      <td>2</td>\n",
       "      <td>Uzakwaziswa ngokufaneleko nakungafuneka eminye...</td>\n",
       "    </tr>\n",
       "    <tr>\n",
       "      <th>2</th>\n",
       "      <td>3</td>\n",
       "      <td>Tshivhumbeo tshi fana na ngano dza vhathu.</td>\n",
       "    </tr>\n",
       "    <tr>\n",
       "      <th>3</th>\n",
       "      <td>4</td>\n",
       "      <td>Kube inja nelikati betingevakala kutsi titsini...</td>\n",
       "    </tr>\n",
       "    <tr>\n",
       "      <th>4</th>\n",
       "      <td>5</td>\n",
       "      <td>Winste op buitelandse valuta.</td>\n",
       "    </tr>\n",
       "  </tbody>\n",
       "</table>\n",
       "</div>"
      ],
      "text/plain": [
       "   index                                               text\n",
       "0      1  Mmasepala, fa maemo a a kgethegileng a letlele...\n",
       "1      2  Uzakwaziswa ngokufaneleko nakungafuneka eminye...\n",
       "2      3         Tshivhumbeo tshi fana na ngano dza vhathu.\n",
       "3      4  Kube inja nelikati betingevakala kutsi titsini...\n",
       "4      5                      Winste op buitelandse valuta."
      ]
     },
     "execution_count": 5,
     "metadata": {},
     "output_type": "execute_result"
    }
   ],
   "source": [
    "test.head()"
   ]
  },
  {
   "cell_type": "markdown",
   "metadata": {},
   "source": [
    "# Checking for missing values and data type"
   ]
  },
  {
   "cell_type": "code",
   "execution_count": 6,
   "metadata": {},
   "outputs": [
    {
     "name": "stdout",
     "output_type": "stream",
     "text": [
      "Train Info\n",
      "------------------------------------------------------------\n",
      "<class 'pandas.core.frame.DataFrame'>\n",
      "RangeIndex: 33000 entries, 0 to 32999\n",
      "Data columns (total 2 columns):\n",
      " #   Column   Non-Null Count  Dtype \n",
      "---  ------   --------------  ----- \n",
      " 0   lang_id  33000 non-null  object\n",
      " 1   text     33000 non-null  object\n",
      "dtypes: object(2)\n",
      "memory usage: 515.8+ KB\n"
     ]
    }
   ],
   "source": [
    "print('Train Info')\n",
    "print('-'*60)\n",
    "train.info()\n",
    "\n"
   ]
  },
  {
   "cell_type": "code",
   "execution_count": 7,
   "metadata": {},
   "outputs": [
    {
     "name": "stdout",
     "output_type": "stream",
     "text": [
      "Test Info\n",
      "------------------------------------------------------------\n",
      "<class 'pandas.core.frame.DataFrame'>\n",
      "RangeIndex: 5682 entries, 0 to 5681\n",
      "Data columns (total 2 columns):\n",
      " #   Column  Non-Null Count  Dtype \n",
      "---  ------  --------------  ----- \n",
      " 0   index   5682 non-null   int64 \n",
      " 1   text    5682 non-null   object\n",
      "dtypes: int64(1), object(1)\n",
      "memory usage: 88.9+ KB\n",
      "------------------------------------------------------------\n"
     ]
    }
   ],
   "source": [
    "print(\"Test Info\")\n",
    "print('-'*60)\n",
    "test.info()\n",
    "print('-'*60)\n"
   ]
  },
  {
   "cell_type": "markdown",
   "metadata": {},
   "source": [
    "There are no missing values from our data  and we have about 33 000 train entries and 5 682 observations for the test data."
   ]
  },
  {
   "cell_type": "code",
   "execution_count": 8,
   "metadata": {},
   "outputs": [],
   "source": [
    "ftrain = train.copy()\n",
    "ftest = test.copy()"
   ]
  },
  {
   "cell_type": "code",
   "execution_count": 9,
   "metadata": {},
   "outputs": [
    {
     "data": {
      "text/plain": [
       "<AxesSubplot:xlabel='lang_id', ylabel='count'>"
      ]
     },
     "execution_count": 9,
     "metadata": {},
     "output_type": "execute_result"
    },
    {
     "data": {
      "image/png": "[encoded data removed]",
      "text/plain": [
       "<Figure size 432x288 with 1 Axes>"
      ]
     },
     "metadata": {
      "needs_background": "light"
     },
     "output_type": "display_data"
    }
   ],
   "source": [
    "sns.countplot(x='lang_id',data=ftrain,palette='rainbow')"
   ]
  },
  {
   "cell_type": "markdown",
   "metadata": {},
   "source": [
    "# For every language we are checking for unique values"
   ]
  },
  {
   "cell_type": "code",
   "execution_count": 10,
   "metadata": {},
   "outputs": [
    {
     "data": {
      "text/plain": [
       "sot    3000\n",
       "eng    3000\n",
       "xho    3000\n",
       "nso    3000\n",
       "ssw    3000\n",
       "tsn    3000\n",
       "tso    3000\n",
       "zul    3000\n",
       "afr    3000\n",
       "ven    3000\n",
       "nbl    3000\n",
       "Name: lang_id, dtype: int64"
      ]
     },
     "execution_count": 10,
     "metadata": {},
     "output_type": "execute_result"
    }
   ],
   "source": [
    "train['lang_id'].value_counts()"
   ]
  },
  {
   "cell_type": "code",
   "execution_count": 11,
   "metadata": {},
   "outputs": [
    {
     "data": {
      "text/plain": [
       "((33000, 2), (5682, 2))"
      ]
     },
     "execution_count": 11,
     "metadata": {},
     "output_type": "execute_result"
    }
   ],
   "source": [
    "ftrain.shape,ftest.shape"
   ]
  },
  {
   "cell_type": "code",
   "execution_count": 12,
   "metadata": {},
   "outputs": [
    {
     "data": {
      "text/plain": [
       "Index(['lang_id', 'text'], dtype='object')"
      ]
     },
     "execution_count": 12,
     "metadata": {},
     "output_type": "execute_result"
    }
   ],
   "source": [
    "ftrain.columns"
   ]
  },
  {
   "cell_type": "markdown",
   "metadata": {},
   "source": [
    "# Preparing  data for modeling ( Data Cleaning)"
   ]
  },
  {
   "cell_type": "markdown",
   "metadata": {},
   "source": [
    "Removing Blank Spaces\n"
   ]
  },
  {
   "cell_type": "code",
   "execution_count": 13,
   "metadata": {},
   "outputs": [],
   "source": [
    "### returns a list of indexes where there are blank spaces.\n",
    "\n",
    "def drop_blank(df):\n",
    "    blanks=[]\n",
    "    for i, label,value in df.itertuples():\n",
    "        if type(value)==str:\n",
    "            if value.isspace():\n",
    "                blanks.append(i)\n",
    "        return blanks"
   ]
  },
  {
   "cell_type": "code",
   "execution_count": 14,
   "metadata": {},
   "outputs": [],
   "source": [
    "#Drop Blank spaces in the train data set\n",
    "train.drop(drop_blank(train),inplace=True)"
   ]
  },
  {
   "cell_type": "code",
   "execution_count": 15,
   "metadata": {},
   "outputs": [],
   "source": [
    "#Drop Blank spaces in the train data set\n",
    "test.drop(drop_blank(test),inplace=True)"
   ]
  },
  {
   "cell_type": "markdown",
   "metadata": {},
   "source": [
    "### Split text separated by hypens"
   ]
  },
  {
   "cell_type": "code",
   "execution_count": 16,
   "metadata": {},
   "outputs": [],
   "source": [
    "train['text_split'] = train['text'].str.split(\"-\", )\n",
    "test['text_split'] = test['text'].str.split(\"-\", )\n",
    "\n",
    "# Return to string from list\n",
    "train['text_split'] = train.text_split.apply(lambda x: ' '.join([str(i) for i in x]))\n",
    "test['text_split'] = test.text_split.apply(lambda x: ' '.join([str(i) for i in x]))"
   ]
  },
  {
   "cell_type": "markdown",
   "metadata": {},
   "source": [
    "## Word Tokenization"
   ]
  },
  {
   "cell_type": "code",
   "execution_count": 17,
   "metadata": {},
   "outputs": [],
   "source": [
    "train['tokens'] = train['text_split'].apply(nltk.word_tokenize)\n",
    "test['tokens'] = test['text_split'].apply(nltk.word_tokenize)"
   ]
  },
  {
   "cell_type": "markdown",
   "metadata": {},
   "source": [
    "##  We Remove Punctuations From Texts"
   ]
  },
  {
   "cell_type": "code",
   "execution_count": 18,
   "metadata": {},
   "outputs": [],
   "source": [
    "train['tokens'] = train['tokens'].apply(lambda x : [token for token in x if token not in string.punctuation])\n",
    "test['tokens'] = test['tokens'].apply(lambda x : [token for token in x if token not in string.punctuation])"
   ]
  },
  {
   "cell_type": "code",
   "execution_count": 19,
   "metadata": {},
   "outputs": [
    {
     "data": {
      "text/html": [
       "<div>\n",
       "<style scoped>\n",
       "    .dataframe tbody tr th:only-of-type {\n",
       "        vertical-align: middle;\n",
       "    }\n",
       "\n",
       "    .dataframe tbody tr th {\n",
       "        vertical-align: top;\n",
       "    }\n",
       "\n",
       "    .dataframe thead th {\n",
       "        text-align: right;\n",
       "    }\n",
       "</style>\n",
       "<table border=\"1\" class=\"dataframe\">\n",
       "  <thead>\n",
       "    <tr style=\"text-align: right;\">\n",
       "      <th></th>\n",
       "      <th>lang_id</th>\n",
       "      <th>text</th>\n",
       "      <th>text_split</th>\n",
       "      <th>tokens</th>\n",
       "    </tr>\n",
       "  </thead>\n",
       "  <tbody>\n",
       "    <tr>\n",
       "      <th>0</th>\n",
       "      <td>xho</td>\n",
       "      <td>umgaqo-siseko wenza amalungiselelo kumaziko ax...</td>\n",
       "      <td>umgaqo siseko wenza amalungiselelo kumaziko ax...</td>\n",
       "      <td>[umgaqo, siseko, wenza, amalungiselelo, kumazi...</td>\n",
       "    </tr>\n",
       "    <tr>\n",
       "      <th>1</th>\n",
       "      <td>xho</td>\n",
       "      <td>i-dha iya kuba nobulumko bokubeka umsebenzi na...</td>\n",
       "      <td>i dha iya kuba nobulumko bokubeka umsebenzi na...</td>\n",
       "      <td>[i, dha, iya, kuba, nobulumko, bokubeka, umseb...</td>\n",
       "    </tr>\n",
       "    <tr>\n",
       "      <th>2</th>\n",
       "      <td>eng</td>\n",
       "      <td>the province of kwazulu-natal department of tr...</td>\n",
       "      <td>the province of kwazulu natal department of tr...</td>\n",
       "      <td>[the, province, of, kwazulu, natal, department...</td>\n",
       "    </tr>\n",
       "    <tr>\n",
       "      <th>3</th>\n",
       "      <td>nso</td>\n",
       "      <td>o netefatša gore o ba file dilo ka moka tše le...</td>\n",
       "      <td>o netefatša gore o ba file dilo ka moka tše le...</td>\n",
       "      <td>[o, netefatša, gore, o, ba, file, dilo, ka, mo...</td>\n",
       "    </tr>\n",
       "    <tr>\n",
       "      <th>4</th>\n",
       "      <td>ven</td>\n",
       "      <td>khomishini ya ndinganyiso ya mbeu yo ewa maana...</td>\n",
       "      <td>khomishini ya ndinganyiso ya mbeu yo ewa maana...</td>\n",
       "      <td>[khomishini, ya, ndinganyiso, ya, mbeu, yo, ew...</td>\n",
       "    </tr>\n",
       "  </tbody>\n",
       "</table>\n",
       "</div>"
      ],
      "text/plain": [
       "  lang_id                                               text  \\\n",
       "0     xho  umgaqo-siseko wenza amalungiselelo kumaziko ax...   \n",
       "1     xho  i-dha iya kuba nobulumko bokubeka umsebenzi na...   \n",
       "2     eng  the province of kwazulu-natal department of tr...   \n",
       "3     nso  o netefatša gore o ba file dilo ka moka tše le...   \n",
       "4     ven  khomishini ya ndinganyiso ya mbeu yo ewa maana...   \n",
       "\n",
       "                                          text_split  \\\n",
       "0  umgaqo siseko wenza amalungiselelo kumaziko ax...   \n",
       "1  i dha iya kuba nobulumko bokubeka umsebenzi na...   \n",
       "2  the province of kwazulu natal department of tr...   \n",
       "3  o netefatša gore o ba file dilo ka moka tše le...   \n",
       "4  khomishini ya ndinganyiso ya mbeu yo ewa maana...   \n",
       "\n",
       "                                              tokens  \n",
       "0  [umgaqo, siseko, wenza, amalungiselelo, kumazi...  \n",
       "1  [i, dha, iya, kuba, nobulumko, bokubeka, umseb...  \n",
       "2  [the, province, of, kwazulu, natal, department...  \n",
       "3  [o, netefatša, gore, o, ba, file, dilo, ka, mo...  \n",
       "4  [khomishini, ya, ndinganyiso, ya, mbeu, yo, ew...  "
      ]
     },
     "execution_count": 19,
     "metadata": {},
     "output_type": "execute_result"
    }
   ],
   "source": [
    "train.head()"
   ]
  },
  {
   "cell_type": "code",
   "execution_count": 20,
   "metadata": {},
   "outputs": [
    {
     "data": {
      "text/html": [
       "<div>\n",
       "<style scoped>\n",
       "    .dataframe tbody tr th:only-of-type {\n",
       "        vertical-align: middle;\n",
       "    }\n",
       "\n",
       "    .dataframe tbody tr th {\n",
       "        vertical-align: top;\n",
       "    }\n",
       "\n",
       "    .dataframe thead th {\n",
       "        text-align: right;\n",
       "    }\n",
       "</style>\n",
       "<table border=\"1\" class=\"dataframe\">\n",
       "  <thead>\n",
       "    <tr style=\"text-align: right;\">\n",
       "      <th></th>\n",
       "      <th>index</th>\n",
       "      <th>text</th>\n",
       "      <th>text_split</th>\n",
       "      <th>tokens</th>\n",
       "    </tr>\n",
       "  </thead>\n",
       "  <tbody>\n",
       "    <tr>\n",
       "      <th>0</th>\n",
       "      <td>1</td>\n",
       "      <td>Mmasepala, fa maemo a a kgethegileng a letlele...</td>\n",
       "      <td>Mmasepala, fa maemo a a kgethegileng a letlele...</td>\n",
       "      <td>[Mmasepala, fa, maemo, a, a, kgethegileng, a, ...</td>\n",
       "    </tr>\n",
       "    <tr>\n",
       "      <th>1</th>\n",
       "      <td>2</td>\n",
       "      <td>Uzakwaziswa ngokufaneleko nakungafuneka eminye...</td>\n",
       "      <td>Uzakwaziswa ngokufaneleko nakungafuneka eminye...</td>\n",
       "      <td>[Uzakwaziswa, ngokufaneleko, nakungafuneka, em...</td>\n",
       "    </tr>\n",
       "    <tr>\n",
       "      <th>2</th>\n",
       "      <td>3</td>\n",
       "      <td>Tshivhumbeo tshi fana na ngano dza vhathu.</td>\n",
       "      <td>Tshivhumbeo tshi fana na ngano dza vhathu.</td>\n",
       "      <td>[Tshivhumbeo, tshi, fana, na, ngano, dza, vhathu]</td>\n",
       "    </tr>\n",
       "    <tr>\n",
       "      <th>3</th>\n",
       "      <td>4</td>\n",
       "      <td>Kube inja nelikati betingevakala kutsi titsini...</td>\n",
       "      <td>Kube inja nelikati betingevakala kutsi titsini...</td>\n",
       "      <td>[Kube, inja, nelikati, betingevakala, kutsi, t...</td>\n",
       "    </tr>\n",
       "    <tr>\n",
       "      <th>4</th>\n",
       "      <td>5</td>\n",
       "      <td>Winste op buitelandse valuta.</td>\n",
       "      <td>Winste op buitelandse valuta.</td>\n",
       "      <td>[Winste, op, buitelandse, valuta]</td>\n",
       "    </tr>\n",
       "  </tbody>\n",
       "</table>\n",
       "</div>"
      ],
      "text/plain": [
       "   index                                               text  \\\n",
       "0      1  Mmasepala, fa maemo a a kgethegileng a letlele...   \n",
       "1      2  Uzakwaziswa ngokufaneleko nakungafuneka eminye...   \n",
       "2      3         Tshivhumbeo tshi fana na ngano dza vhathu.   \n",
       "3      4  Kube inja nelikati betingevakala kutsi titsini...   \n",
       "4      5                      Winste op buitelandse valuta.   \n",
       "\n",
       "                                          text_split  \\\n",
       "0  Mmasepala, fa maemo a a kgethegileng a letlele...   \n",
       "1  Uzakwaziswa ngokufaneleko nakungafuneka eminye...   \n",
       "2         Tshivhumbeo tshi fana na ngano dza vhathu.   \n",
       "3  Kube inja nelikati betingevakala kutsi titsini...   \n",
       "4                      Winste op buitelandse valuta.   \n",
       "\n",
       "                                              tokens  \n",
       "0  [Mmasepala, fa, maemo, a, a, kgethegileng, a, ...  \n",
       "1  [Uzakwaziswa, ngokufaneleko, nakungafuneka, em...  \n",
       "2  [Tshivhumbeo, tshi, fana, na, ngano, dza, vhathu]  \n",
       "3  [Kube, inja, nelikati, betingevakala, kutsi, t...  \n",
       "4                  [Winste, op, buitelandse, valuta]  "
      ]
     },
     "execution_count": 20,
     "metadata": {},
     "output_type": "execute_result"
    }
   ],
   "source": [
    "test.head()"
   ]
  },
  {
   "cell_type": "markdown",
   "metadata": {},
   "source": [
    "## Remove one charater tokens"
   ]
  },
  {
   "cell_type": "code",
   "execution_count": 21,
   "metadata": {},
   "outputs": [],
   "source": [
    "train['tokens'] = train['tokens'].apply(lambda x: [token for token in x if len(token) > 1])\n",
    "test['tokens'] = test['tokens'].apply(lambda x: [token for token in x if len(token) > 1])"
   ]
  },
  {
   "cell_type": "code",
   "execution_count": 22,
   "metadata": {},
   "outputs": [
    {
     "data": {
      "text/html": [
       "<div>\n",
       "<style scoped>\n",
       "    .dataframe tbody tr th:only-of-type {\n",
       "        vertical-align: middle;\n",
       "    }\n",
       "\n",
       "    .dataframe tbody tr th {\n",
       "        vertical-align: top;\n",
       "    }\n",
       "\n",
       "    .dataframe thead th {\n",
       "        text-align: right;\n",
       "    }\n",
       "</style>\n",
       "<table border=\"1\" class=\"dataframe\">\n",
       "  <thead>\n",
       "    <tr style=\"text-align: right;\">\n",
       "      <th></th>\n",
       "      <th>lang_id</th>\n",
       "      <th>text</th>\n",
       "      <th>text_split</th>\n",
       "      <th>tokens</th>\n",
       "    </tr>\n",
       "  </thead>\n",
       "  <tbody>\n",
       "    <tr>\n",
       "      <th>0</th>\n",
       "      <td>xho</td>\n",
       "      <td>umgaqo-siseko wenza amalungiselelo kumaziko ax...</td>\n",
       "      <td>umgaqo siseko wenza amalungiselelo kumaziko ax...</td>\n",
       "      <td>[umgaqo, siseko, wenza, amalungiselelo, kumazi...</td>\n",
       "    </tr>\n",
       "    <tr>\n",
       "      <th>1</th>\n",
       "      <td>xho</td>\n",
       "      <td>i-dha iya kuba nobulumko bokubeka umsebenzi na...</td>\n",
       "      <td>i dha iya kuba nobulumko bokubeka umsebenzi na...</td>\n",
       "      <td>[dha, iya, kuba, nobulumko, bokubeka, umsebenz...</td>\n",
       "    </tr>\n",
       "  </tbody>\n",
       "</table>\n",
       "</div>"
      ],
      "text/plain": [
       "  lang_id                                               text  \\\n",
       "0     xho  umgaqo-siseko wenza amalungiselelo kumaziko ax...   \n",
       "1     xho  i-dha iya kuba nobulumko bokubeka umsebenzi na...   \n",
       "\n",
       "                                          text_split  \\\n",
       "0  umgaqo siseko wenza amalungiselelo kumaziko ax...   \n",
       "1  i dha iya kuba nobulumko bokubeka umsebenzi na...   \n",
       "\n",
       "                                              tokens  \n",
       "0  [umgaqo, siseko, wenza, amalungiselelo, kumazi...  \n",
       "1  [dha, iya, kuba, nobulumko, bokubeka, umsebenz...  "
      ]
     },
     "execution_count": 22,
     "metadata": {},
     "output_type": "execute_result"
    }
   ],
   "source": [
    "train.head(2)"
   ]
  },
  {
   "cell_type": "code",
   "execution_count": 23,
   "metadata": {},
   "outputs": [
    {
     "data": {
      "text/html": [
       "<div>\n",
       "<style scoped>\n",
       "    .dataframe tbody tr th:only-of-type {\n",
       "        vertical-align: middle;\n",
       "    }\n",
       "\n",
       "    .dataframe tbody tr th {\n",
       "        vertical-align: top;\n",
       "    }\n",
       "\n",
       "    .dataframe thead th {\n",
       "        text-align: right;\n",
       "    }\n",
       "</style>\n",
       "<table border=\"1\" class=\"dataframe\">\n",
       "  <thead>\n",
       "    <tr style=\"text-align: right;\">\n",
       "      <th></th>\n",
       "      <th>index</th>\n",
       "      <th>text</th>\n",
       "      <th>text_split</th>\n",
       "      <th>tokens</th>\n",
       "    </tr>\n",
       "  </thead>\n",
       "  <tbody>\n",
       "    <tr>\n",
       "      <th>0</th>\n",
       "      <td>1</td>\n",
       "      <td>Mmasepala, fa maemo a a kgethegileng a letlele...</td>\n",
       "      <td>Mmasepala, fa maemo a a kgethegileng a letlele...</td>\n",
       "      <td>[Mmasepala, fa, maemo, kgethegileng, letlelela...</td>\n",
       "    </tr>\n",
       "    <tr>\n",
       "      <th>1</th>\n",
       "      <td>2</td>\n",
       "      <td>Uzakwaziswa ngokufaneleko nakungafuneka eminye...</td>\n",
       "      <td>Uzakwaziswa ngokufaneleko nakungafuneka eminye...</td>\n",
       "      <td>[Uzakwaziswa, ngokufaneleko, nakungafuneka, em...</td>\n",
       "    </tr>\n",
       "    <tr>\n",
       "      <th>2</th>\n",
       "      <td>3</td>\n",
       "      <td>Tshivhumbeo tshi fana na ngano dza vhathu.</td>\n",
       "      <td>Tshivhumbeo tshi fana na ngano dza vhathu.</td>\n",
       "      <td>[Tshivhumbeo, tshi, fana, na, ngano, dza, vhathu]</td>\n",
       "    </tr>\n",
       "    <tr>\n",
       "      <th>3</th>\n",
       "      <td>4</td>\n",
       "      <td>Kube inja nelikati betingevakala kutsi titsini...</td>\n",
       "      <td>Kube inja nelikati betingevakala kutsi titsini...</td>\n",
       "      <td>[Kube, inja, nelikati, betingevakala, kutsi, t...</td>\n",
       "    </tr>\n",
       "    <tr>\n",
       "      <th>4</th>\n",
       "      <td>5</td>\n",
       "      <td>Winste op buitelandse valuta.</td>\n",
       "      <td>Winste op buitelandse valuta.</td>\n",
       "      <td>[Winste, op, buitelandse, valuta]</td>\n",
       "    </tr>\n",
       "  </tbody>\n",
       "</table>\n",
       "</div>"
      ],
      "text/plain": [
       "   index                                               text  \\\n",
       "0      1  Mmasepala, fa maemo a a kgethegileng a letlele...   \n",
       "1      2  Uzakwaziswa ngokufaneleko nakungafuneka eminye...   \n",
       "2      3         Tshivhumbeo tshi fana na ngano dza vhathu.   \n",
       "3      4  Kube inja nelikati betingevakala kutsi titsini...   \n",
       "4      5                      Winste op buitelandse valuta.   \n",
       "\n",
       "                                          text_split  \\\n",
       "0  Mmasepala, fa maemo a a kgethegileng a letlele...   \n",
       "1  Uzakwaziswa ngokufaneleko nakungafuneka eminye...   \n",
       "2         Tshivhumbeo tshi fana na ngano dza vhathu.   \n",
       "3  Kube inja nelikati betingevakala kutsi titsini...   \n",
       "4                      Winste op buitelandse valuta.   \n",
       "\n",
       "                                              tokens  \n",
       "0  [Mmasepala, fa, maemo, kgethegileng, letlelela...  \n",
       "1  [Uzakwaziswa, ngokufaneleko, nakungafuneka, em...  \n",
       "2  [Tshivhumbeo, tshi, fana, na, ngano, dza, vhathu]  \n",
       "3  [Kube, inja, nelikati, betingevakala, kutsi, t...  \n",
       "4                  [Winste, op, buitelandse, valuta]  "
      ]
     },
     "execution_count": 23,
     "metadata": {},
     "output_type": "execute_result"
    }
   ],
   "source": [
    "test.head()"
   ]
  },
  {
   "cell_type": "markdown",
   "metadata": {},
   "source": [
    "##  Stop Words"
   ]
  },
  {
   "cell_type": "markdown",
   "metadata": {},
   "source": [
    "##### Converting texts to lowercase"
   ]
  },
  {
   "cell_type": "code",
   "execution_count": 24,
   "metadata": {},
   "outputs": [],
   "source": [
    "stop_eng = stopwords.words('english')\n",
    "stop_sotho = stopwordz.stopwords(\"st\")\n",
    "stop_zulu = stopwordz.stopwords(\"zu\")\n",
    "stop_afr = stopwordz.stopwords(\"af\")\n",
    "\n",
    "train['no_stopwords'] = train['tokens'].apply(lambda x: [word.lower() for word in x])\n",
    "\n",
    "# Removing Stop Words\n",
    "train['no_stopwords'] = train['tokens'].apply(lambda x: [item for item in x if item not in stop_eng])\n",
    "train['no_stopwords'] = train['no_stopwords'].apply(lambda x: [item for item in x if item not in stop_sotho])\n",
    "train['no_stopwords'] = train['no_stopwords'].apply(lambda x: [item for item in x if item not in stop_zulu])\n",
    "train['no_stopwords'] = train['no_stopwords'].apply(lambda x: [item for item in x if item not in stop_afr])\n",
    "\n",
    "\n",
    "\n",
    "#Test\n",
    "test['no_stopwords'] = test['tokens'].apply(lambda x: [item for item in x if item not in stop_eng])\n",
    "test['no_stopwords'] = test['no_stopwords'].apply(lambda x: [item for item in x if item not in stop_sotho])\n",
    "test['no_stopwords'] = test['no_stopwords'].apply(lambda x: [item for item in x if item not in stop_zulu])\n",
    "test['no_stopwords'] = test['no_stopwords'].apply(lambda x: [item for item in x if item not in stop_afr])"
   ]
  },
  {
   "cell_type": "markdown",
   "metadata": {},
   "source": [
    "## Data Modelling"
   ]
  },
  {
   "cell_type": "markdown",
   "metadata": {},
   "source": [
    "Separating X and Y"
   ]
  },
  {
   "cell_type": "code",
   "execution_count": 25,
   "metadata": {},
   "outputs": [],
   "source": [
    "X = train['no_stopwords']\n",
    "y = train['lang_id']\n",
    "X_test = test['no_stopwords']\n"
   ]
  },
  {
   "cell_type": "markdown",
   "metadata": {},
   "source": [
    " Creating Training and validation data set"
   ]
  },
  {
   "cell_type": "code",
   "execution_count": 26,
   "metadata": {},
   "outputs": [],
   "source": [
    "# Use 80% of the train set to train the model, 20% to validate.\n",
    "X_train, X_val, y_train, y_val = train_test_split(X, y, test_size=0.2, random_state = 42)"
   ]
  },
  {
   "cell_type": "code",
   "execution_count": 27,
   "metadata": {},
   "outputs": [],
   "source": [
    "# Convert to string list\n",
    "X_train = list(X_train.apply(' '.join))\n",
    "X_val = list(X_val.apply(' '.join))\n",
    "X_test = list(X_test.apply(' '.join))"
   ]
  },
  {
   "cell_type": "markdown",
   "metadata": {},
   "source": [
    "## Models\n"
   ]
  },
  {
   "cell_type": "code",
   "execution_count": 28,
   "metadata": {},
   "outputs": [],
   "source": [
    "# LinearSVC Pipeline\n",
    "Lsvc_tfidf = Pipeline([('tfidf', TfidfVectorizer()),\n",
    "                     ('scv', LinearSVC()),])\n",
    "Lsvc_count = Pipeline([('CountVec',  CountVectorizer(analyzer = 'word', \n",
    "                             tokenizer = None, \n",
    "                             preprocessor = None, \n",
    "                             stop_words = None, \n",
    "                             max_features = 180000,\n",
    "                             min_df = 1,\n",
    "                             ngram_range = (1,3)\n",
    "                            )),('svc', LinearSVC()),])\n",
    "\n",
    "# RandomForestClassifier Pipeline\n",
    "rfc_tfidf = Pipeline([('tfidf', TfidfVectorizer()), ('rfc', RandomForestClassifier())])\n",
    "rfc_count = Pipeline([('CountVec',  CountVectorizer(analyzer = 'word', \n",
    "                             tokenizer = None, \n",
    "                             preprocessor = None, \n",
    "                             stop_words = None, \n",
    "                             max_features = 180000,\n",
    "                             min_df = 1,\n",
    "                             ngram_range = (1,2)\n",
    "                            )),('rfc', RandomForestClassifier()),])\n",
    "\n",
    "# DecisionTreeClassifier Pipeline\n",
    "tree_tfidf = Pipeline([('tfidf', TfidfVectorizer()),('tree', DecisionTreeClassifier()),])\n",
    "tree_count = Pipeline([('CountVec',  CountVectorizer(analyzer = 'word', \n",
    "                             tokenizer = None, \n",
    "                             preprocessor = None, \n",
    "                             stop_words = None, \n",
    "                             max_features = 180000,\n",
    "                             min_df = 1,\n",
    "                             ngram_range = (1,2)\n",
    "                            )),('tree', DecisionTreeClassifier()),])\n",
    "\n",
    "\n",
    "# Ridge Pipeline\n",
    "ridge_tfidf = Pipeline([('tfidf', TfidfVectorizer()), ('Ridge', RidgeClassifier())])\n",
    "ridge_count = Pipeline([('CountVec',  CountVectorizer(analyzer = 'word', \n",
    "                             tokenizer = None, \n",
    "                             preprocessor = None, \n",
    "                             stop_words = None, \n",
    "                             max_features = 180000,\n",
    "                             min_df = 1,\n",
    "                             ngram_range = (1,3)\n",
    "                            )),('Ridge', RidgeClassifier()),])\n",
    "\n",
    "#Naive Bayes Multinomial\n",
    "nbm_tfidf = Pipeline([('tfidf', TfidfVectorizer()),('nbm', MultinomialNB()),])\n",
    "nbm_count = Pipeline([('CountVec',  CountVectorizer(analyzer = 'word', \n",
    "                             tokenizer = None, \n",
    "                             preprocessor = None, \n",
    "                             stop_words = None, \n",
    "                             max_features = 180000,\n",
    "                             min_df = 1,\n",
    "                             ngram_range = (1,3)\n",
    "                            )),('nbm', MultinomialNB()),])\n",
    "\n",
    "\n",
    "# Logistic Regression pipeline\n",
    "logreg_tfidf = Pipeline([('tfidf', TfidfVectorizer()),('logistic', LogisticRegression()),])\n",
    "logreg_count = Pipeline([('CountVec',  CountVectorizer(analyzer = 'word', \n",
    "                             tokenizer = None, \n",
    "                             preprocessor = None, \n",
    "                             stop_words = None, \n",
    "                             max_features = 180000,\n",
    "                             min_df = 1,\n",
    "                             ngram_range = (1,3)\n",
    "                            )),('logistic', LogisticRegression()),])\n",
    "\n",
    "#SGD Classifiers\n",
    "SGD_tfidf = Pipeline([('CountVec',TfidfVectorizer(max_features=180000) ),('SGD', SGDClassifier()),])\n",
    "SGD_count = Pipeline([('CountVec',  CountVectorizer(analyzer = 'char', \n",
    "                             tokenizer = None, \n",
    "                             preprocessor = None, \n",
    "                             stop_words = None, \n",
    "                             max_features = 180000,\n",
    "                             min_df = 1,\n",
    "                             ngram_range = (1,3)\n",
    "                            )),('SGD', SGDClassifier()),])\n",
    "\n",
    "# Support Vector Classifier Pipeline\n",
    "svc_tfidf = Pipeline([('tfidf', TfidfVectorizer()), ('SVC', SVC())])\n",
    "svc_count = Pipeline([('CountVec',  CountVectorizer(analyzer = 'word', \n",
    "                             tokenizer = None, \n",
    "                             preprocessor = None, \n",
    "                             stop_words = None, \n",
    "                             max_features = 180000,\n",
    "                             min_df = 1,\n",
    "                             ngram_range = (1,2)\n",
    "                            )),('SVC', SVC()),])\n",
    "\n"
   ]
  },
  {
   "cell_type": "markdown",
   "metadata": {},
   "source": [
    "## Training Our Models."
   ]
  },
  {
   "cell_type": "markdown",
   "metadata": {},
   "source": [
    "##### LinearSVC pipeline"
   ]
  },
  {
   "cell_type": "code",
   "execution_count": 29,
   "metadata": {},
   "outputs": [
    {
     "name": "stderr",
     "output_type": "stream",
     "text": [
      "C:\\Users\\CLLR A Matumba\\anaconda3\\lib\\site-packages\\sklearn\\svm\\_base.py:976: ConvergenceWarning: Liblinear failed to converge, increase the number of iterations.\n",
      "  warnings.warn(\"Liblinear failed to converge, increase \"\n"
     ]
    },
    {
     "data": {
      "text/plain": [
       "Pipeline(steps=[('CountVec',\n",
       "                 CountVectorizer(max_features=180000, ngram_range=(1, 3))),\n",
       "                ('svc', LinearSVC())])"
      ]
     },
     "execution_count": 29,
     "metadata": {},
     "output_type": "execute_result"
    }
   ],
   "source": [
    "# training the LinearSVC pipeline\n",
    "Lsvc_tfidf.fit(X_train, y_train)\n",
    "Lsvc_count.fit(X_train, y_train)"
   ]
  },
  {
   "cell_type": "markdown",
   "metadata": {},
   "source": [
    "###### Naive Bayes Multinomial pipeline"
   ]
  },
  {
   "cell_type": "code",
   "execution_count": 30,
   "metadata": {},
   "outputs": [
    {
     "data": {
      "text/plain": [
       "Pipeline(steps=[('CountVec',\n",
       "                 CountVectorizer(max_features=180000, ngram_range=(1, 3))),\n",
       "                ('nbm', MultinomialNB())])"
      ]
     },
     "execution_count": 30,
     "metadata": {},
     "output_type": "execute_result"
    }
   ],
   "source": [
    "# training the Naive Bayes Multinomial pipeline\n",
    "nbm_tfidf.fit(X_train, y_train)\n",
    "nbm_count.fit(X_train, y_train)"
   ]
  },
  {
   "cell_type": "markdown",
   "metadata": {},
   "source": [
    "##### Ridge pipeline"
   ]
  },
  {
   "cell_type": "code",
   "execution_count": 31,
   "metadata": {},
   "outputs": [
    {
     "data": {
      "text/plain": [
       "Pipeline(steps=[('CountVec',\n",
       "                 CountVectorizer(max_features=180000, ngram_range=(1, 3))),\n",
       "                ('Ridge', RidgeClassifier())])"
      ]
     },
     "execution_count": 31,
     "metadata": {},
     "output_type": "execute_result"
    }
   ],
   "source": [
    "# training the Ridge classifier\n",
    "ridge_tfidf.fit(X_train, y_train)\n",
    "ridge_count.fit(X_train, y_train)"
   ]
  },
  {
   "cell_type": "markdown",
   "metadata": {},
   "source": [
    "##### Logistic pipeline"
   ]
  },
  {
   "cell_type": "code",
   "execution_count": 32,
   "metadata": {},
   "outputs": [
    {
     "name": "stderr",
     "output_type": "stream",
     "text": [
      "C:\\Users\\CLLR A Matumba\\anaconda3\\lib\\site-packages\\sklearn\\linear_model\\_logistic.py:762: ConvergenceWarning: lbfgs failed to converge (status=1):\n",
      "STOP: TOTAL NO. of ITERATIONS REACHED LIMIT.\n",
      "\n",
      "Increase the number of iterations (max_iter) or scale the data as shown in:\n",
      "    https://scikit-learn.org/stable/modules/preprocessing.html\n",
      "Please also refer to the documentation for alternative solver options:\n",
      "    https://scikit-learn.org/stable/modules/linear_model.html#logistic-regression\n",
      "  n_iter_i = _check_optimize_result(\n"
     ]
    },
    {
     "data": {
      "text/plain": [
       "Pipeline(steps=[('CountVec',\n",
       "                 CountVectorizer(max_features=180000, ngram_range=(1, 3))),\n",
       "                ('logistic', LogisticRegression())])"
      ]
     },
     "execution_count": 32,
     "metadata": {},
     "output_type": "execute_result"
    }
   ],
   "source": [
    "# training the logistic regression pipeline\n",
    "logreg_tfidf.fit(X_train, y_train)\n",
    "logreg_count.fit(X_train, y_train)"
   ]
  },
  {
   "cell_type": "markdown",
   "metadata": {},
   "source": [
    "##### SGD Classifier"
   ]
  },
  {
   "cell_type": "code",
   "execution_count": 33,
   "metadata": {},
   "outputs": [
    {
     "data": {
      "text/plain": [
       "Pipeline(steps=[('CountVec', TfidfVectorizer(max_features=180000)),\n",
       "                ('SGD', SGDClassifier())])"
      ]
     },
     "execution_count": 33,
     "metadata": {},
     "output_type": "execute_result"
    }
   ],
   "source": [
    "SGD_count.fit(X_train,y_train)\n",
    "SGD_tfidf.fit(X_train,y_train)"
   ]
  },
  {
   "cell_type": "markdown",
   "metadata": {},
   "source": [
    "##### Decision Tree pipeline"
   ]
  },
  {
   "cell_type": "code",
   "execution_count": 34,
   "metadata": {},
   "outputs": [
    {
     "data": {
      "text/plain": [
       "Pipeline(steps=[('CountVec',\n",
       "                 CountVectorizer(max_features=180000, ngram_range=(1, 2))),\n",
       "                ('tree', DecisionTreeClassifier())])"
      ]
     },
     "execution_count": 34,
     "metadata": {},
     "output_type": "execute_result"
    }
   ],
   "source": [
    "\n",
    "tree_tfidf.fit(X_train, y_train)\n",
    "tree_count.fit(X_train, y_train)"
   ]
  },
  {
   "cell_type": "markdown",
   "metadata": {},
   "source": [
    "##### Random Forest pipeline"
   ]
  },
  {
   "cell_type": "code",
   "execution_count": 35,
   "metadata": {},
   "outputs": [
    {
     "data": {
      "text/plain": [
       "Pipeline(steps=[('CountVec',\n",
       "                 CountVectorizer(max_features=180000, ngram_range=(1, 2))),\n",
       "                ('rfc', RandomForestClassifier())])"
      ]
     },
     "execution_count": 35,
     "metadata": {},
     "output_type": "execute_result"
    }
   ],
   "source": [
    "rfc_tfidf.fit(X_train, y_train)\n",
    "rfc_count.fit(X_train, y_train)"
   ]
  },
  {
   "cell_type": "markdown",
   "metadata": {},
   "source": [
    "##### Support Vector Classifier"
   ]
  },
  {
   "cell_type": "code",
   "execution_count": 36,
   "metadata": {},
   "outputs": [
    {
     "data": {
      "text/plain": [
       "Pipeline(steps=[('CountVec',\n",
       "                 CountVectorizer(max_features=180000, ngram_range=(1, 2))),\n",
       "                ('SVC', SVC())])"
      ]
     },
     "execution_count": 36,
     "metadata": {},
     "output_type": "execute_result"
    }
   ],
   "source": [
    "svc_tfidf.fit(X_train, y_train)\n",
    "svc_count.fit(X_train, y_train)"
   ]
  },
  {
   "cell_type": "markdown",
   "metadata": {},
   "source": [
    "## CountVectorizer Section"
   ]
  },
  {
   "cell_type": "code",
   "execution_count": 37,
   "metadata": {},
   "outputs": [],
   "source": [
    "# calculating average scores for CountVectorizer\n",
    "\n",
    "nbm_acc_cv =  accuracy_score(y_val,nbm_count.predict(X_val))\n",
    "tree_acc_cv =  accuracy_score(y_val,tree_count.predict(X_val))\n",
    "rfc_acc_cv = accuracy_score(y_val,rfc_count.predict(X_val))\n",
    "lsvc_acc_cv = accuracy_score(y_val,Lsvc_count.predict(X_val))\n",
    "log_acc_cv = accuracy_score(y_val, logreg_count.predict(X_val))\n",
    "sgd_acc_cv = accuracy_score(y_val, SGD_count.predict(X_val))\n",
    "svc_acc_cv = accuracy_score(y_val, svc_count.predict(X_val))\n",
    "ridge_acc_cv = accuracy_score(y_val, ridge_count.predict(X_val))\n",
    "\n",
    "CountVec = round(np.mean([nbm_acc_cv,tree_acc_cv,rfc_acc_cv,\n",
    "                          lsvc_acc_cv,log_acc_cv,sgd_acc_cv,\n",
    "                          svc_acc_cv, ridge_acc_cv]),4)"
   ]
  },
  {
   "cell_type": "markdown",
   "metadata": {},
   "source": [
    "\n",
    "## TFIDF Section"
   ]
  },
  {
   "cell_type": "code",
   "execution_count": 38,
   "metadata": {},
   "outputs": [],
   "source": [
    "# calculating average scores for the TFIDF\n",
    "nbm_acc_tf =  accuracy_score(y_val,nbm_tfidf.predict(X_val))\n",
    "tree_acc_tf =  accuracy_score(y_val,tree_tfidf.predict(X_val))\n",
    "rfc_acc_tf = accuracy_score(y_val,rfc_tfidf.predict(X_val))\n",
    "lsvc_acc_tf = accuracy_score(y_val,Lsvc_tfidf.predict(X_val))\n",
    "log_acc_tf = accuracy_score(y_val, logreg_tfidf.predict(X_val))\n",
    "sgd_acc_tf = accuracy_score(y_val, SGD_tfidf.predict(X_val))\n",
    "svc_acc_tf = accuracy_score(y_val, svc_tfidf.predict(X_val))\n",
    "ridge_acc_tf = accuracy_score(y_val, ridge_tfidf.predict(X_val))\n",
    "\n",
    "tfidf_avg_accuracy = round(np.mean([nbm_acc_tf,tree_acc_tf,rfc_acc_tf,\n",
    "                                    lsvc_acc_tf,log_acc_tf,sgd_acc_tf,\n",
    "                                    svc_acc_tf,ridge_acc_tf]),4)"
   ]
  },
  {
   "cell_type": "markdown",
   "metadata": {},
   "source": [
    "## Comparing TFIDF and CountVectorizer"
   ]
  },
  {
   "cell_type": "code",
   "execution_count": 39,
   "metadata": {},
   "outputs": [
    {
     "name": "stdout",
     "output_type": "stream",
     "text": [
      "TFIDF AVG Score = 98.62 %\n",
      "CountVectorizer AVG Score = 98.38 %\n"
     ]
    },
    {
     "data": {
      "image/png": "[encoded data removed]",
      "text/plain": [
       "<Figure size 576x576 with 1 Axes>"
      ]
     },
     "metadata": {
      "needs_background": "light"
     },
     "output_type": "display_data"
    }
   ],
   "source": [
    "print(\"TFIDF AVG Score =\", round(tfidf_avg_accuracy*100, 4), \"%\")\n",
    "print(\"CountVectorizer AVG Score =\", round(CountVec*100, 4), \"%\")\n",
    "\n",
    "accuracy_dict = {'TFIDF':[tfidf_avg_accuracy], 'CountVec':[CountVec]}\n",
    "accuracy_df = pd.DataFrame(accuracy_dict)\n",
    "accuracy_df.T.plot(kind='bar', figsize = (8,8),legend = False, color = 'green')\n",
    "plt.xlabel('Avg Accuracy Score')\n",
    "plt.ylabel('Text Extraction Method')\n",
    "plt.yticks(rotation = 40)\n",
    "plt.title('Average Accuracy score for two text extract method')\n",
    "plt.show()"
   ]
  },
  {
   "cell_type": "code",
   "execution_count": 40,
   "metadata": {},
   "outputs": [],
   "source": [
    "# Validate model performance on TFIDF\n",
    "nbm_prediction_tf = nbm_tfidf.predict(X_val) #Naive Bayes Multinomial predictions\n",
    "tree_prediction_tf = tree_tfidf.predict(X_val) # DecisionTreeClassifier predictions\n",
    "rfc_prediction_tf = rfc_tfidf.predict(X_val) # RandomForestClassifier predictions\n",
    "Lsvc_prediction_tf = Lsvc_tfidf.predict(X_val) # LinearSVClassifier Predictions\n",
    "logreg_prediction_tf = logreg_tfidf.predict(X_val) # Logistic regression predictions\n",
    "SGD_prediction_tf = SGD_tfidf.predict(X_val) # SGD Classifier predictions\n",
    "SVC_prediction_tf = svc_tfidf.predict(X_val) # Support vector machine predictions\n",
    "ridge_prediction_tf = ridge_tfidf.predict(X_val) # Ridge predictions"
   ]
  },
  {
   "cell_type": "code",
   "execution_count": 41,
   "metadata": {},
   "outputs": [],
   "source": [
    "# Validate model performance on CountVectorizer\n",
    "nbm_prediction_cv = nbm_count.predict(X_val) # NaiveBayesMultinomial predictions\n",
    "tree_prediction_cv = tree_count.predict(X_val) # DecisionTreeClassifier predictions\n",
    "rfc_prediction_cv = rfc_count.predict(X_val) # RandomForestClassifier predictions\n",
    "Lsvc_prediction_cv = Lsvc_count.predict(X_val) # LinearSVClassifier Predictions\n",
    "logreg_prediction_cv = logreg_count.predict(X_val) # Logistic regression predictions\n",
    "SGD_prediction_cv = SGD_count.predict(X_val) # SGD Classifier predictions\n",
    "SVC_prediction_cv = svc_count.predict(X_val) # Support vector machine predictions\n",
    "ridge_prediction_cv = ridge_count.predict(X_val) # Ridge predictions"
   ]
  },
  {
   "cell_type": "markdown",
   "metadata": {},
   "source": [
    "# Evaluating each model\n"
   ]
  },
  {
   "cell_type": "markdown",
   "metadata": {},
   "source": [
    "##### Naive Bayes Multinominal model"
   ]
  },
  {
   "cell_type": "code",
   "execution_count": 42,
   "metadata": {},
   "outputs": [
    {
     "name": "stdout",
     "output_type": "stream",
     "text": [
      "\n",
      "Naive Bayes Multinomial Model\n",
      "               precision    recall  f1-score   support\n",
      "\n",
      "         afr       1.00      1.00      1.00       583\n",
      "         eng       1.00      1.00      1.00       615\n",
      "         nbl       0.98      1.00      0.99       583\n",
      "         nso       1.00      1.00      1.00       625\n",
      "         sot       1.00      1.00      1.00       618\n",
      "         ssw       1.00      1.00      1.00       584\n",
      "         tsn       1.00      1.00      1.00       598\n",
      "         tso       1.00      1.00      1.00       561\n",
      "         ven       1.00      1.00      1.00       634\n",
      "         xho       1.00      1.00      1.00       609\n",
      "         zul       1.00      0.98      0.99       590\n",
      "\n",
      "    accuracy                           1.00      6600\n",
      "   macro avg       1.00      1.00      1.00      6600\n",
      "weighted avg       1.00      1.00      1.00      6600\n",
      "\n"
     ]
    },
    {
     "data": {
      "image/png": "[encoded data removed]",
      "text/plain": [
       "<Figure size 576x576 with 2 Axes>"
      ]
     },
     "metadata": {
      "needs_background": "light"
     },
     "output_type": "display_data"
    }
   ],
   "source": [
    "print('\\nNaive Bayes Multinomial Model\\n', classification_report(y_val, nbm_prediction_tf))\n",
    "plot_confusion_matrix(y_val, nbm_prediction_cv, normalize=True,figsize=(8,8),cmap='Greens')\n",
    "plt.title('NBM Confusion Matrix')\n",
    "plt.show()"
   ]
  },
  {
   "cell_type": "code",
   "execution_count": 43,
   "metadata": {},
   "outputs": [
    {
     "data": {
      "image/png": "[encoded data removed]",
      "text/plain": [
       "<Figure size 576x576 with 1 Axes>"
      ]
     },
     "metadata": {
      "needs_background": "light"
     },
     "output_type": "display_data"
    }
   ],
   "source": [
    "report_tree = classification_report(y_val, nbm_prediction_cv, output_dict=True)\n",
    "df_nbm = pd.DataFrame(report_tree).transpose()\n",
    "df_nbm.drop(['accuracy'], inplace = True)\n",
    "df_nbm.sort_values(by=['f1-score'],ascending=True, inplace = True)\n",
    "df_nbm.drop(['weighted avg','macro avg'])['f1-score'].plot(kind='barh', figsize = (8, 8), color = 'Green')\n",
    "plt.xlabel('f1-score')\n",
    "plt.ylabel('Languages')\n",
    "plt.yticks(rotation = 40)\n",
    "plt.title('f1-score for Naive Bayes Multinomial Model using CountVectorizer')\n",
    "plt.show()"
   ]
  },
  {
   "cell_type": "code",
   "execution_count": 44,
   "metadata": {},
   "outputs": [
    {
     "name": "stdout",
     "output_type": "stream",
     "text": [
      "\n",
      "Overall accuracy score for Naive Bayes Multinomial from TFIDF : 99.76\n",
      "\n",
      "Weighted avg f1 score Naive Bayes Multinomial from TFIDF: 99.76\n",
      "\n",
      "Overall accuracy score for Naive Bayes Multinomial from CountVectorizer : 99.83\n",
      "\n",
      "Weighted avg f1 score Naive Bayes Multinomial from CountVectorizer: 99.83\n"
     ]
    }
   ],
   "source": [
    "# Performence of the model\n",
    "\n",
    "nbm_acc_tf = round(accuracy_score(y_val, nbm_prediction_tf), 4)\n",
    "print(f'\\nOverall accuracy score for Naive Bayes Multinomial from TFIDF : {round(nbm_acc_tf*100, 4)}')\n",
    "nbm_f1_tf = round(f1_score(y_val, nbm_prediction_tf, average=\"weighted\"), 4)\n",
    "print(f'\\nWeighted avg f1 score Naive Bayes Multinomial from TFIDF: {(nbm_f1_tf)*100}')\n",
    "\n",
    "nbm_acc_vec = round(accuracy_score(y_val, nbm_prediction_cv), 4)\n",
    "print(f'\\nOverall accuracy score for Naive Bayes Multinomial from CountVectorizer : {round(nbm_acc_vec*100, 4)}')\n",
    "nbm_f1_vec = round(f1_score(y_val, nbm_prediction_cv, average=\"weighted\"), 4)\n",
    "print(f'\\nWeighted avg f1 score Naive Bayes Multinomial from CountVectorizer: {round(nbm_f1_vec*100, 4)}')"
   ]
  },
  {
   "cell_type": "markdown",
   "metadata": {},
   "source": [
    "#### LinearSCV Model"
   ]
  },
  {
   "cell_type": "code",
   "execution_count": 45,
   "metadata": {},
   "outputs": [
    {
     "name": "stdout",
     "output_type": "stream",
     "text": [
      "\n",
      "LinearSVC Model\n",
      "               precision    recall  f1-score   support\n",
      "\n",
      "         afr       1.00      1.00      1.00       583\n",
      "         eng       1.00      1.00      1.00       615\n",
      "         nbl       0.99      0.98      0.99       583\n",
      "         nso       1.00      1.00      1.00       625\n",
      "         sot       1.00      1.00      1.00       618\n",
      "         ssw       1.00      0.99      1.00       584\n",
      "         tsn       1.00      0.99      1.00       598\n",
      "         tso       1.00      1.00      1.00       561\n",
      "         ven       1.00      1.00      1.00       634\n",
      "         xho       0.99      0.99      0.99       609\n",
      "         zul       0.97      0.98      0.98       590\n",
      "\n",
      "    accuracy                           0.99      6600\n",
      "   macro avg       0.99      0.99      0.99      6600\n",
      "weighted avg       0.99      0.99      0.99      6600\n",
      "\n"
     ]
    },
    {
     "data": {
      "image/png": "[encoded data removed]",
      "text/plain": [
       "<Figure size 576x576 with 2 Axes>"
      ]
     },
     "metadata": {
      "needs_background": "light"
     },
     "output_type": "display_data"
    }
   ],
   "source": [
    "print('\\nLinearSVC Model\\n', classification_report(y_val, Lsvc_prediction_cv))\n",
    "plot_confusion_matrix(y_val, Lsvc_prediction_cv, normalize=True,figsize=(8,8),cmap='inferno_r')\n",
    "plt.title('LinearSCV Classification')\n",
    "plt.show()"
   ]
  },
  {
   "cell_type": "code",
   "execution_count": 46,
   "metadata": {},
   "outputs": [
    {
     "data": {
      "image/png": "[encoded data removed]",
      "text/plain": [
       "<Figure size 576x576 with 1 Axes>"
      ]
     },
     "metadata": {
      "needs_background": "light"
     },
     "output_type": "display_data"
    }
   ],
   "source": [
    "#Visualizing LinearSVC\n",
    "\n",
    "report_svc = classification_report(y_val, Lsvc_prediction_cv, output_dict=True)\n",
    "df_svc = pd.DataFrame(report_svc).transpose()\n",
    "df_svc.drop(['accuracy'], inplace = True)\n",
    "df_svc.sort_values(by=['f1-score'],ascending=True, inplace = True)\n",
    "df_svc.drop(['weighted avg','macro avg'])['f1-score'].plot(kind='barh', figsize = (8,8), color = 'blue')\n",
    "plt.xlabel('f1-score')\n",
    "plt.ylabel('Languages')\n",
    "plt.yticks(rotation = 40)\n",
    "plt.title('f1-score  for LinearSVC')\n",
    "plt.show()"
   ]
  },
  {
   "cell_type": "code",
   "execution_count": 47,
   "metadata": {},
   "outputs": [
    {
     "name": "stdout",
     "output_type": "stream",
     "text": [
      "\n",
      "Overall accuracy score for LinearSVC Model from TFIDF : 99.71\n",
      "\n",
      "Weighted avg f1 score LinearSVC Model from TFIDF: 99.71\n",
      "\n",
      "Overall accuracy score for LinearSVC Model from CountVectorizer : 99.47\n",
      "\n",
      "Weighted avg f1 score LinearSVC Model from CountVectorizer: 99.47\n"
     ]
    }
   ],
   "source": [
    "# Print the overall model performanceLsvc_prediction_cv\n",
    "Lsvc_acc_tf = round(accuracy_score(y_val, Lsvc_prediction_tf), 4)\n",
    "print(f'\\nOverall accuracy score for LinearSVC Model from TFIDF : {round(Lsvc_acc_tf*100, 4)}')\n",
    "Lsvc_acc_f1_tf = round(f1_score(y_val, Lsvc_prediction_tf, average=\"weighted\"), 4)\n",
    "print(f'\\nWeighted avg f1 score LinearSVC Model from TFIDF: {round(Lsvc_acc_f1_tf*100, 4)}')\n",
    "\n",
    "Lsvc_acc_vec = round(accuracy_score(y_val, Lsvc_prediction_cv), 4)\n",
    "print(f'\\nOverall accuracy score for LinearSVC Model from CountVectorizer : {round(Lsvc_acc_vec*100, 4)}')\n",
    "Lsvc_f1_vec = round(f1_score(y_val, Lsvc_prediction_cv, average=\"weighted\"), 4)\n",
    "print(f'\\nWeighted avg f1 score LinearSVC Model from CountVectorizer: {round(Lsvc_f1_vec*100, 4)}')"
   ]
  },
  {
   "cell_type": "markdown",
   "metadata": {},
   "source": [
    "##### Logistic Regression Evaluation"
   ]
  },
  {
   "cell_type": "code",
   "execution_count": 48,
   "metadata": {},
   "outputs": [
    {
     "name": "stdout",
     "output_type": "stream",
     "text": [
      "\n",
      "Logistic Regression\n",
      "               precision    recall  f1-score   support\n",
      "\n",
      "         afr       1.00      1.00      1.00       583\n",
      "         eng       1.00      1.00      1.00       615\n",
      "         nbl       0.99      0.98      0.99       583\n",
      "         nso       1.00      0.99      1.00       625\n",
      "         sot       0.99      1.00      1.00       618\n",
      "         ssw       1.00      0.99      1.00       584\n",
      "         tsn       0.99      0.99      0.99       598\n",
      "         tso       1.00      1.00      1.00       561\n",
      "         ven       1.00      1.00      1.00       634\n",
      "         xho       1.00      0.99      0.99       609\n",
      "         zul       0.96      0.99      0.98       590\n",
      "\n",
      "    accuracy                           0.99      6600\n",
      "   macro avg       0.99      0.99      0.99      6600\n",
      "weighted avg       0.99      0.99      0.99      6600\n",
      "\n"
     ]
    },
    {
     "data": {
      "image/png": "[encoded data removed]",
      "text/plain": [
       "<Figure size 576x576 with 2 Axes>"
      ]
     },
     "metadata": {
      "needs_background": "light"
     },
     "output_type": "display_data"
    }
   ],
   "source": [
    "# Print a classification report\n",
    "print('\\nLogistic Regression\\n', classification_report(y_val, logreg_prediction_cv))\n",
    "plot_confusion_matrix(y_val, logreg_prediction_cv, normalize=True,figsize=(8,8),cmap='Blues')\n",
    "plt.title('Logistic Regression Classification')\n",
    "plt.show()"
   ]
  },
  {
   "cell_type": "code",
   "execution_count": 49,
   "metadata": {},
   "outputs": [
    {
     "data": {
      "image/png": "[encoded data removed]",
      "text/plain": [
       "<Figure size 576x576 with 1 Axes>"
      ]
     },
     "metadata": {
      "needs_background": "light"
     },
     "output_type": "display_data"
    }
   ],
   "source": [
    "# Visual represetation of of the f1 score for each class\n",
    "report_logreg = classification_report(y_val, logreg_prediction_cv, output_dict=True)\n",
    "df_logreg = pd.DataFrame(report_logreg).transpose()\n",
    "df_logreg.drop(['accuracy'], inplace = True)\n",
    "df_logreg.sort_values(by=['f1-score'],ascending=True, inplace = True)\n",
    "df_logreg.drop(['weighted avg','macro avg'])['f1-score'].plot(kind='barh', figsize = (8,8), color = 'purple')\n",
    "plt.xlabel('f1-score')\n",
    "plt.ylabel('Languages')\n",
    "plt.yticks(rotation = 40)\n",
    "plt.title('f1 score for Logistic Regression')\n",
    "plt.show()"
   ]
  },
  {
   "cell_type": "code",
   "execution_count": 50,
   "metadata": {},
   "outputs": [
    {
     "name": "stdout",
     "output_type": "stream",
     "text": [
      "\n",
      "Overall accuracy score for Logistic Regression from TFIDF : 99.52\n",
      "\n",
      "Weighted avg f1 score Logistic Regression from TFIDF: 99.52\n",
      "\n",
      "Overall accuracy score for Logistic Regression from CountVectorizer : 99.35\n",
      "\n",
      "Weighted avg f1 score Logistic Regression from CountVectorizer: 99.35\n"
     ]
    }
   ],
   "source": [
    "\n",
    "# Print the overall model performanceLsvc_prediction_cv\n",
    "logreg_acc_tf = round(accuracy_score(y_val, logreg_prediction_tf), 4)\n",
    "print(f'\\nOverall accuracy score for Logistic Regression from TFIDF : {round(logreg_acc_tf*100, 4)}')\n",
    "logreg_acc_f1_tf = round(f1_score(y_val, logreg_prediction_tf, average=\"weighted\"), 4)\n",
    "print(f'\\nWeighted avg f1 score Logistic Regression from TFIDF: {round(logreg_acc_f1_tf*100, 4)}')\n",
    "\n",
    "logreg_acc_vec = round(accuracy_score(y_val, logreg_prediction_cv), 4)\n",
    "print(f'\\nOverall accuracy score for Logistic Regression from CountVectorizer : {round(logreg_acc_vec*100, 4)}')\n",
    "logreg_f1_vec = round(f1_score(y_val, logreg_prediction_cv, average=\"weighted\"), 4)\n",
    "print(f'\\nWeighted avg f1 score Logistic Regression from CountVectorizer: {round(logreg_f1_vec*100, 4)}')"
   ]
  },
  {
   "cell_type": "markdown",
   "metadata": {},
   "source": [
    "#### SGD Classifier Evaluation"
   ]
  },
  {
   "cell_type": "code",
   "execution_count": 51,
   "metadata": {},
   "outputs": [
    {
     "name": "stdout",
     "output_type": "stream",
     "text": [
      "\n",
      "SGD Classifier  Classification report :\n",
      "               precision    recall  f1-score   support\n",
      "\n",
      "         afr       1.00      1.00      1.00       583\n",
      "         eng       1.00      1.00      1.00       615\n",
      "         nbl       1.00      0.99      0.99       583\n",
      "         nso       1.00      1.00      1.00       625\n",
      "         sot       1.00      1.00      1.00       618\n",
      "         ssw       1.00      1.00      1.00       584\n",
      "         tsn       1.00      1.00      1.00       598\n",
      "         tso       1.00      1.00      1.00       561\n",
      "         ven       1.00      1.00      1.00       634\n",
      "         xho       1.00      0.99      0.99       609\n",
      "         zul       0.98      1.00      0.99       590\n",
      "\n",
      "    accuracy                           1.00      6600\n",
      "   macro avg       1.00      1.00      1.00      6600\n",
      "weighted avg       1.00      1.00      1.00      6600\n",
      "\n"
     ]
    },
    {
     "data": {
      "image/png": "[encoded data removed]",
      "text/plain": [
       "<Figure size 576x576 with 2 Axes>"
      ]
     },
     "metadata": {
      "needs_background": "light"
     },
     "output_type": "display_data"
    }
   ],
   "source": [
    "# The classification report \n",
    "print('\\nSGD Classifier  Classification report :\\n', classification_report(y_val, SGD_prediction_cv))\n",
    "plot_confusion_matrix(y_val, SGD_prediction_cv, normalize=True,figsize=(8,8),cmap='Purples')\n",
    "plt.title('Logistic Regression Classification')\n",
    "plt.show()"
   ]
  },
  {
   "cell_type": "code",
   "execution_count": 52,
   "metadata": {},
   "outputs": [
    {
     "data": {
      "image/png": "[encoded data removed]",
      "text/plain": [
       "<Figure size 576x576 with 1 Axes>"
      ]
     },
     "metadata": {
      "needs_background": "light"
     },
     "output_type": "display_data"
    }
   ],
   "source": [
    "# Visual represetation of of the f1 score for language\n",
    "report_sgd = classification_report(y_val, SGD_prediction_cv, output_dict=True)\n",
    "df_sgd = pd.DataFrame(report_sgd).transpose()\n",
    "df_sgd.drop(['accuracy'], inplace = True)\n",
    "df_sgd.sort_values(by=['f1-score'],ascending=True, inplace = True)\n",
    "df_sgd.drop(['weighted avg','macro avg'])['f1-score'].plot(kind='barh', figsize = (8,8), color = 'pink')\n",
    "plt.xlabel('f1-score')\n",
    "plt.ylabel('Languages')\n",
    "plt.yticks(rotation = 40)\n",
    "plt.title('f1-score for SGD')\n",
    "plt.show()"
   ]
  },
  {
   "cell_type": "code",
   "execution_count": 53,
   "metadata": {},
   "outputs": [
    {
     "name": "stdout",
     "output_type": "stream",
     "text": [
      "\n",
      "Overall accuracy score for SGD Classifier from TFIDF : 99.68\n",
      "\n",
      "Weighted avg f1 score SGD Classifier from TFIDF: 99.68\n",
      "\n",
      "Overall accuracy score for SGD Classifier from CountVectorizer : 99.68\n",
      "\n",
      "Weighted avg f1 score SGD Classifier from CountVectorizer: 99.68\n"
     ]
    }
   ],
   "source": [
    "# Print the overall model performanceLsvc_prediction_cvSGD\n",
    "\n",
    "SGD_acc_tf = round(accuracy_score(y_val, SGD_prediction_tf), 4)\n",
    "print(f'\\nOverall accuracy score for SGD Classifier from TFIDF : {round(SGD_acc_tf*100, 4)}')\n",
    "SGD_acc_f1_tf = round(f1_score(y_val, SGD_prediction_tf, average=\"weighted\"), 4)\n",
    "print(f'\\nWeighted avg f1 score SGD Classifier from TFIDF: {round(SGD_acc_f1_tf*100, 4)}')\n",
    "\n",
    "SGD_acc_vec = round(accuracy_score(y_val, SGD_prediction_cv), 4)\n",
    "print(f'\\nOverall accuracy score for SGD Classifier from CountVectorizer : {round(SGD_acc_vec*100, 4)}')\n",
    "SGD_f1_vec = round(f1_score(y_val, SGD_prediction_cv, average=\"weighted\"), 4)\n",
    "print(f'\\nWeighted avg f1 score SGD Classifier from CountVectorizer: {round(SGD_f1_vec*100, 4)}')"
   ]
  },
  {
   "cell_type": "markdown",
   "metadata": {},
   "source": [
    "##### Random Forest Evaluation"
   ]
  },
  {
   "cell_type": "code",
   "execution_count": 54,
   "metadata": {},
   "outputs": [
    {
     "name": "stdout",
     "output_type": "stream",
     "text": [
      "\n",
      "RandomForestClassifier\n",
      "               precision    recall  f1-score   support\n",
      "\n",
      "         afr       0.99      0.99      0.99       583\n",
      "         eng       0.98      0.99      0.98       615\n",
      "         nbl       0.99      0.90      0.95       583\n",
      "         nso       1.00      0.99      0.99       625\n",
      "         sot       0.97      1.00      0.99       618\n",
      "         ssw       0.99      0.94      0.97       584\n",
      "         tsn       0.99      0.98      0.98       598\n",
      "         tso       1.00      1.00      1.00       561\n",
      "         ven       1.00      1.00      1.00       634\n",
      "         xho       0.99      0.92      0.95       609\n",
      "         zul       0.81      0.98      0.88       590\n",
      "\n",
      "    accuracy                           0.97      6600\n",
      "   macro avg       0.97      0.97      0.97      6600\n",
      "weighted avg       0.98      0.97      0.97      6600\n",
      "\n"
     ]
    },
    {
     "data": {
      "image/png": "[encoded data removed]",
      "text/plain": [
       "<Figure size 576x576 with 2 Axes>"
      ]
     },
     "metadata": {
      "needs_background": "light"
     },
     "output_type": "display_data"
    }
   ],
   "source": [
    "print('\\nRandomForestClassifier\\n', classification_report(y_val, rfc_prediction_cv))\n",
    "plot_confusion_matrix(y_val, rfc_prediction_cv, normalize=True,figsize=(8,8),cmap='Purples')\n",
    "plt.title('Random Forest Classification')\n",
    "plt.show()"
   ]
  },
  {
   "cell_type": "code",
   "execution_count": 55,
   "metadata": {},
   "outputs": [
    {
     "data": {
      "image/png": "[encoded data removed]",
      "text/plain": [
       "<Figure size 576x576 with 1 Axes>"
      ]
     },
     "metadata": {
      "needs_background": "light"
     },
     "output_type": "display_data"
    }
   ],
   "source": [
    " # Visual represetation of of the f1 score for each class\n",
    "report_rfc = classification_report(y_val, rfc_prediction_cv, output_dict=True)\n",
    "df_rfc = pd.DataFrame(report_rfc).transpose()\n",
    "df_rfc.drop(['accuracy'], inplace = True)\n",
    "df_rfc.sort_values(by=['f1-score'],ascending=True, inplace = True)\n",
    "df_rfc.drop(['weighted avg','macro avg'])['f1-score'].plot(kind='barh', figsize = (8,8), color = 'purple')\n",
    "plt.xlabel('f1-score')\n",
    "plt.ylabel('Languages')\n",
    "plt.yticks(rotation = 40)\n",
    "plt.title('f1-score  for Random Forest Classiffier')\n",
    "plt.show()"
   ]
  },
  {
   "cell_type": "code",
   "execution_count": 56,
   "metadata": {},
   "outputs": [
    {
     "name": "stdout",
     "output_type": "stream",
     "text": [
      "\n",
      "Overall accuracy score for RandomForestClassifier from TFIDF : 97.18\n",
      "\n",
      "Weighted avg f1 score RandomForestClassifier from TFIDF: 97.25\n",
      "\n",
      "Overall accuracy score for RandomForestClassifier from CountVectorizer : 97.17\n",
      "\n",
      "Weighted avg f1 score RandomForestClassifier from CountVectorizer: 97.23\n"
     ]
    }
   ],
   "source": [
    "# Print the overall model performance\n",
    "random_forest_acc_tf = round(accuracy_score(y_val, rfc_prediction_tf), 4)\n",
    "print(f'\\nOverall accuracy score for RandomForestClassifier from TFIDF : {round(random_forest_acc_tf*100, 4)}')\n",
    "random_forest_acc_f1_tf = round(f1_score(y_val, rfc_prediction_tf, average=\"weighted\"), 4)\n",
    "print(f'\\nWeighted avg f1 score RandomForestClassifier from TFIDF: {round(random_forest_acc_f1_tf*100, 4)}')\n",
    "\n",
    "random_forest_acc_vec = round(accuracy_score(y_val, rfc_prediction_cv), 4)\n",
    "print(f'\\nOverall accuracy score for RandomForestClassifier from CountVectorizer : {round(random_forest_acc_vec*100, 4)}')\n",
    "random_forest_f1_vec = round(f1_score(y_val, rfc_prediction_cv, average=\"weighted\"), 4)\n",
    "print(f'\\nWeighted avg f1 score RandomForestClassifier from CountVectorizer: {round(random_forest_f1_vec*100, 4)}')"
   ]
  },
  {
   "cell_type": "markdown",
   "metadata": {},
   "source": [
    "##### Support Vector Classfier Evaluation"
   ]
  },
  {
   "cell_type": "code",
   "execution_count": 57,
   "metadata": {},
   "outputs": [
    {
     "name": "stdout",
     "output_type": "stream",
     "text": [
      "\n",
      "Support Vector Classifier Classification report :\n",
      "               precision    recall  f1-score   support\n",
      "\n",
      "         afr       1.00      1.00      1.00       583\n",
      "         eng       1.00      1.00      1.00       615\n",
      "         nbl       0.99      0.98      0.99       583\n",
      "         nso       1.00      0.99      1.00       625\n",
      "         sot       0.99      1.00      1.00       618\n",
      "         ssw       1.00      0.99      1.00       584\n",
      "         tsn       1.00      0.99      0.99       598\n",
      "         tso       1.00      1.00      1.00       561\n",
      "         ven       1.00      1.00      1.00       634\n",
      "         xho       1.00      0.99      1.00       609\n",
      "         zul       0.96      0.99      0.98       590\n",
      "\n",
      "    accuracy                           0.99      6600\n",
      "   macro avg       0.99      0.99      0.99      6600\n",
      "weighted avg       0.99      0.99      0.99      6600\n",
      "\n"
     ]
    },
    {
     "data": {
      "image/png": "[encoded data removed]",
      "text/plain": [
       "<Figure size 576x576 with 2 Axes>"
      ]
     },
     "metadata": {
      "needs_background": "light"
     },
     "output_type": "display_data"
    }
   ],
   "source": [
    "# The classification report \n",
    "print('\\nSupport Vector Classifier Classification report :\\n', classification_report(y_val, SVC_prediction_tf))\n",
    "plot_confusion_matrix(y_val, SVC_prediction_tf, normalize=True,figsize=(8,8),cmap='Purples')\n",
    "plt.title('Support Vector Classification')\n",
    "plt.show()"
   ]
  },
  {
   "cell_type": "code",
   "execution_count": 58,
   "metadata": {},
   "outputs": [
    {
     "data": {
      "image/png": "[encoded data removed]",
      "text/plain": [
       "<Figure size 576x576 with 1 Axes>"
      ]
     },
     "metadata": {
      "needs_background": "light"
     },
     "output_type": "display_data"
    }
   ],
   "source": [
    "\n",
    "# Visual represetation of of the f1 score for language\n",
    "report_svc = classification_report(y_val, SVC_prediction_tf, output_dict=True)\n",
    "df_SVC = pd.DataFrame(report_svc).transpose()\n",
    "df_SVC.drop(['accuracy'], inplace = True)\n",
    "df_SVC.sort_values(by=['f1-score'],ascending=True, inplace = True)\n",
    "df_SVC.drop(['weighted avg','macro avg'])['f1-score'].plot(kind='barh', figsize = (8,8), color = 'purple')\n",
    "plt.xlabel('f1-score')\n",
    "plt.ylabel('Languages')\n",
    "plt.yticks(rotation = 40)\n",
    "plt.title('f1-score for SVC')\n",
    "plt.show()"
   ]
  },
  {
   "cell_type": "code",
   "execution_count": 59,
   "metadata": {},
   "outputs": [
    {
     "name": "stdout",
     "output_type": "stream",
     "text": [
      "\n",
      "Overall accuracy score for Support Vector Classifier from TFIDF : 99.41\n",
      "\n",
      "Weighted avg f1 score Support Vector Classifier from TFIDF: 99.41\n",
      "\n",
      "Overall accuracy score for Support Vector Classifier from CountVectorizer : 98.02\n",
      "\n",
      "Weighted avg f1 score Support Vector Classifier from CountVectorizer: 98.06\n"
     ]
    }
   ],
   "source": [
    "# Print the overall model performanceLsvc_prediction_cvSGD\n",
    "SVC_acc_tf = round(accuracy_score(y_val, SVC_prediction_tf), 4)\n",
    "print(f'\\nOverall accuracy score for Support Vector Classifier from TFIDF : {round(SVC_acc_tf*100, 4)}')\n",
    "SVC_acc_f1_tf = round(f1_score(y_val, SVC_prediction_tf, average=\"weighted\"), 4)\n",
    "print(f'\\nWeighted avg f1 score Support Vector Classifier from TFIDF: {round(SVC_acc_f1_tf*100, 4)}')\n",
    "\n",
    "SVC_acc_vec = round(accuracy_score(y_val, SVC_prediction_cv), 4)\n",
    "print(f'\\nOverall accuracy score for Support Vector Classifier from CountVectorizer : {round(SVC_acc_vec*100, 4)}')\n",
    "SVC_f1_vec = round(f1_score(y_val, SVC_prediction_cv, average=\"weighted\"), 4)\n",
    "print(f'\\nWeighted avg f1 score Support Vector Classifier from CountVectorizer: {round(SVC_f1_vec*100, 4)}')"
   ]
  },
  {
   "cell_type": "markdown",
   "metadata": {},
   "source": [
    "#### Decision Tree Evaluation"
   ]
  },
  {
   "cell_type": "code",
   "execution_count": 60,
   "metadata": {},
   "outputs": [
    {
     "name": "stdout",
     "output_type": "stream",
     "text": [
      "\n",
      "Decision Tree\n",
      "               precision    recall  f1-score   support\n",
      "\n",
      "         afr       0.99      0.98      0.98       583\n",
      "         eng       0.97      0.92      0.95       615\n",
      "         nbl       0.91      0.88      0.90       583\n",
      "         nso       0.99      0.96      0.97       625\n",
      "         sot       0.95      0.98      0.97       618\n",
      "         ssw       0.97      0.88      0.92       584\n",
      "         tsn       0.95      0.97      0.96       598\n",
      "         tso       0.99      0.99      0.99       561\n",
      "         ven       1.00      0.98      0.99       634\n",
      "         xho       0.96      0.89      0.93       609\n",
      "         zul       0.72      0.91      0.80       590\n",
      "\n",
      "    accuracy                           0.94      6600\n",
      "   macro avg       0.95      0.94      0.94      6600\n",
      "weighted avg       0.95      0.94      0.94      6600\n",
      "\n"
     ]
    },
    {
     "data": {
      "image/png": "[encoded data removed]",
      "text/plain": [
       "<Figure size 576x576 with 2 Axes>"
      ]
     },
     "metadata": {
      "needs_background": "light"
     },
     "output_type": "display_data"
    }
   ],
   "source": [
    "print('\\nDecision Tree\\n', classification_report(y_val, tree_prediction_cv))\n",
    "plot_confusion_matrix(y_val, tree_prediction_cv, normalize=True,figsize=(8,8),cmap='Purples')\n",
    "plt.title('Decision Tree Confusion Matrix')\n",
    "plt.show()"
   ]
  },
  {
   "cell_type": "code",
   "execution_count": 61,
   "metadata": {},
   "outputs": [
    {
     "data": {
      "image/png": "[encoded data removed]",
      "text/plain": [
       "<Figure size 576x576 with 1 Axes>"
      ]
     },
     "metadata": {
      "needs_background": "light"
     },
     "output_type": "display_data"
    }
   ],
   "source": [
    "# # Visual represetation of of the f1 score for each class\n",
    "report_tree = classification_report(y_val, tree_prediction_cv, output_dict=True)\n",
    "df_tree = pd.DataFrame(report_tree).transpose()\n",
    "df_tree.drop(['accuracy'], inplace = True)\n",
    "df_tree.sort_values(by=['f1-score'],ascending=True, inplace = True)\n",
    "df_tree.drop(['weighted avg','macro avg'])['f1-score'].plot(kind='barh', figsize = (8,8), color = 'purple')\n",
    "plt.xlabel('f1-score')\n",
    "plt.ylabel('Languages')\n",
    "plt.yticks(rotation = 40)\n",
    "plt.title('f1-score for Decision Tree Classiffier')\n",
    "plt.show()"
   ]
  },
  {
   "cell_type": "code",
   "execution_count": 62,
   "metadata": {},
   "outputs": [
    {
     "data": {
      "image/png": "[encoded data removed]",
      "text/plain": [
       "<Figure size 576x576 with 1 Axes>"
      ]
     },
     "metadata": {
      "needs_background": "light"
     },
     "output_type": "display_data"
    }
   ],
   "source": [
    "# Visual represetation of of the f1 score for each class\n",
    "report_tree = classification_report(y_val, tree_prediction_cv, output_dict=True)\n",
    "df_tree = pd.DataFrame(report_tree).transpose()\n",
    "df_tree.drop(['accuracy'], inplace = True)\n",
    "df_tree.sort_values(by=['f1-score'],ascending=True, inplace = True)\n",
    "df_tree.drop(['weighted avg','macro avg'])['f1-score'].plot(kind='barh', figsize = (8,8), color = 'purple')\n",
    "plt.xlabel('f1-score')\n",
    "plt.ylabel('Languages')\n",
    "plt.yticks(rotation = 40)\n",
    "plt.title('f1-score for Decision Tree Classiffier')\n",
    "plt.show()"
   ]
  },
  {
   "cell_type": "markdown",
   "metadata": {},
   "source": [
    "#### Ridge Classifier Evaluation"
   ]
  },
  {
   "cell_type": "code",
   "execution_count": 63,
   "metadata": {},
   "outputs": [
    {
     "name": "stdout",
     "output_type": "stream",
     "text": [
      "\n",
      "Ridge Classifier  Classification report :\n",
      "               precision    recall  f1-score   support\n",
      "\n",
      "         afr       1.00      1.00      1.00       583\n",
      "         eng       1.00      1.00      1.00       615\n",
      "         nbl       1.00      0.98      0.99       583\n",
      "         nso       1.00      0.99      1.00       625\n",
      "         sot       0.99      1.00      1.00       618\n",
      "         ssw       0.99      0.99      0.99       584\n",
      "         tsn       1.00      1.00      1.00       598\n",
      "         tso       1.00      1.00      1.00       561\n",
      "         ven       1.00      1.00      1.00       634\n",
      "         xho       1.00      0.99      1.00       609\n",
      "         zul       0.97      0.99      0.98       590\n",
      "\n",
      "    accuracy                           1.00      6600\n",
      "   macro avg       1.00      1.00      1.00      6600\n",
      "weighted avg       1.00      1.00      1.00      6600\n",
      "\n"
     ]
    },
    {
     "data": {
      "image/png": "[encoded data removed]",
      "text/plain": [
       "<Figure size 576x576 with 2 Axes>"
      ]
     },
     "metadata": {
      "needs_background": "light"
     },
     "output_type": "display_data"
    }
   ],
   "source": [
    "# The classification report \n",
    "print('\\nRidge Classifier  Classification report :\\n', classification_report(y_val, ridge_prediction_cv))\n",
    "plot_confusion_matrix(y_val, ridge_prediction_cv, normalize=True,figsize=(8,8),cmap='Reds')\n",
    "plt.title('Ridge Classification')\n",
    "plt.show()"
   ]
  },
  {
   "cell_type": "code",
   "execution_count": 64,
   "metadata": {},
   "outputs": [
    {
     "data": {
      "image/png": "[encoded data removed]",
      "text/plain": [
       "<Figure size 576x576 with 1 Axes>"
      ]
     },
     "metadata": {
      "needs_background": "light"
     },
     "output_type": "display_data"
    }
   ],
   "source": [
    "# Visual represetation of of the f1 score for each class\n",
    "report_ridge = classification_report(y_val, ridge_prediction_cv, output_dict=True)\n",
    "df_ridge = pd.DataFrame(report_ridge).transpose()\n",
    "df_ridge.drop(['accuracy'], inplace = True)\n",
    "df_ridge.sort_values(by=['f1-score'],ascending=True, inplace = True)\n",
    "df_ridge.drop(['weighted avg','macro avg'])['f1-score'].plot(kind='barh', figsize = (8,8), color = 'red')\n",
    "plt.xlabel('f1-score')\n",
    "plt.ylabel('Languages')\n",
    "plt.yticks(rotation = 40)\n",
    "plt.title('f1-score for Ridge Classifer')\n",
    "plt.show()"
   ]
  },
  {
   "cell_type": "code",
   "execution_count": 65,
   "metadata": {},
   "outputs": [
    {
     "name": "stdout",
     "output_type": "stream",
     "text": [
      "\n",
      "Overall accuracy score for Ridge Classifier from TFIDF : 99.71\n",
      "\n",
      "Weighted avg f1 score Ridge Classifier from TFIDF: 99.71\n",
      "\n",
      "Overall accuracy score for Ridge Classifier from CountVectorizer : 99.52\n",
      "\n",
      "Weighted avg f1 score Ridge Classifier from CountVectorizer: 99.52\n"
     ]
    }
   ],
   "source": [
    "# Print the overall model \n",
    "ridge_acc_tf = round(accuracy_score(y_val, ridge_prediction_tf), 4)\n",
    "print(f'\\nOverall accuracy score for Ridge Classifier from TFIDF : {round(ridge_acc_tf*100, 4)}')\n",
    "ridge_acc_f1_tf = round(f1_score(y_val, ridge_prediction_tf, average=\"weighted\"), 4)\n",
    "print(f'\\nWeighted avg f1 score Ridge Classifier from TFIDF: {round(ridge_acc_f1_tf*100, 4)}')\n",
    "\n",
    "ridge_acc_vec = round(accuracy_score(y_val, ridge_prediction_cv), 4)\n",
    "print(f'\\nOverall accuracy score for Ridge Classifier from CountVectorizer : {round(ridge_acc_vec*100, 4)}')\n",
    "ridge_f1_vec = round(f1_score(y_val, ridge_prediction_cv, average=\"weighted\"), 4)\n",
    "print(f'\\nWeighted avg f1 score Ridge Classifier from CountVectorizer: {round(ridge_f1_vec*100, 4)}')"
   ]
  },
  {
   "cell_type": "code",
   "execution_count": 66,
   "metadata": {},
   "outputs": [
    {
     "data": {
      "text/html": [
       "<div>\n",
       "<style scoped>\n",
       "    .dataframe tbody tr th:only-of-type {\n",
       "        vertical-align: middle;\n",
       "    }\n",
       "\n",
       "    .dataframe tbody tr th {\n",
       "        vertical-align: top;\n",
       "    }\n",
       "\n",
       "    .dataframe thead th {\n",
       "        text-align: right;\n",
       "    }\n",
       "</style>\n",
       "<table border=\"1\" class=\"dataframe\">\n",
       "  <thead>\n",
       "    <tr style=\"text-align: right;\">\n",
       "      <th></th>\n",
       "      <th>index</th>\n",
       "      <th>lang_id</th>\n",
       "    </tr>\n",
       "  </thead>\n",
       "  <tbody>\n",
       "    <tr>\n",
       "      <th>0</th>\n",
       "      <td>1</td>\n",
       "      <td>tsn</td>\n",
       "    </tr>\n",
       "    <tr>\n",
       "      <th>1</th>\n",
       "      <td>2</td>\n",
       "      <td>nbl</td>\n",
       "    </tr>\n",
       "    <tr>\n",
       "      <th>2</th>\n",
       "      <td>3</td>\n",
       "      <td>ven</td>\n",
       "    </tr>\n",
       "    <tr>\n",
       "      <th>3</th>\n",
       "      <td>4</td>\n",
       "      <td>ssw</td>\n",
       "    </tr>\n",
       "    <tr>\n",
       "      <th>4</th>\n",
       "      <td>5</td>\n",
       "      <td>afr</td>\n",
       "    </tr>\n",
       "    <tr>\n",
       "      <th>...</th>\n",
       "      <td>...</td>\n",
       "      <td>...</td>\n",
       "    </tr>\n",
       "    <tr>\n",
       "      <th>5677</th>\n",
       "      <td>5678</td>\n",
       "      <td>eng</td>\n",
       "    </tr>\n",
       "    <tr>\n",
       "      <th>5678</th>\n",
       "      <td>5679</td>\n",
       "      <td>nso</td>\n",
       "    </tr>\n",
       "    <tr>\n",
       "      <th>5679</th>\n",
       "      <td>5680</td>\n",
       "      <td>sot</td>\n",
       "    </tr>\n",
       "    <tr>\n",
       "      <th>5680</th>\n",
       "      <td>5681</td>\n",
       "      <td>sot</td>\n",
       "    </tr>\n",
       "    <tr>\n",
       "      <th>5681</th>\n",
       "      <td>5682</td>\n",
       "      <td>zul</td>\n",
       "    </tr>\n",
       "  </tbody>\n",
       "</table>\n",
       "<p>5682 rows × 2 columns</p>\n",
       "</div>"
      ],
      "text/plain": [
       "      index lang_id\n",
       "0         1     tsn\n",
       "1         2     nbl\n",
       "2         3     ven\n",
       "3         4     ssw\n",
       "4         5     afr\n",
       "...     ...     ...\n",
       "5677   5678     eng\n",
       "5678   5679     nso\n",
       "5679   5680     sot\n",
       "5680   5681     sot\n",
       "5681   5682     zul\n",
       "\n",
       "[5682 rows x 2 columns]"
      ]
     },
     "execution_count": 66,
     "metadata": {},
     "output_type": "execute_result"
    }
   ],
   "source": [
    "y_pred = ridge_tfidf.predict(X_test)\n",
    "test['lang_id'] = y_pred\n",
    "test[['index','lang_id']].to_csv('Ridge Classifier_tfidf.csv', index=False)\n",
    "test[['index','lang_id']]"
   ]
  },
  {
   "cell_type": "markdown",
   "metadata": {},
   "source": [
    "# Model Comparison"
   ]
  },
  {
   "cell_type": "code",
   "execution_count": 76,
   "metadata": {},
   "outputs": [
    {
     "ename": "NameError",
     "evalue": "name 'tree_prediction_acc_vec' is not defined",
     "output_type": "error",
     "traceback": [
      "\u001b[1;31m---------------------------------------------------------------------------\u001b[0m",
      "\u001b[1;31mNameError\u001b[0m                                 Traceback (most recent call last)",
      "\u001b[1;32m<ipython-input-76-208dfc1cdf56>\u001b[0m in \u001b[0;36m<module>\u001b[1;34m\u001b[0m\n\u001b[0;32m      3\u001b[0m                                     \u001b[1;34m'Logistic Regression'\u001b[0m\u001b[1;33m,\u001b[0m\u001b[1;34m'Stochastic Gradient Descent'\u001b[0m\u001b[1;33m,\u001b[0m\u001b[1;33m\u001b[0m\u001b[1;33m\u001b[0m\u001b[0m\n\u001b[0;32m      4\u001b[0m                                     'Support Vector Classifier','Ridge Classifier'],\n\u001b[1;32m----> 5\u001b[1;33m                     'Accuracy on CV':[nbm_acc_vec, tree_prediction_acc_vec,random_forest_acc_vec,\n\u001b[0m\u001b[0;32m      6\u001b[0m                                 Lsvc_acc_vec,logreg_acc_vec, SGD_acc_vec, SVC_acc_vec, ridge_acc_vec],\n\u001b[0;32m      7\u001b[0m                      'F1 Score on CV':[nbm_f1_vec, tree_prediction_f1_vec,random_forest_f1_vec,\n",
      "\u001b[1;31mNameError\u001b[0m: name 'tree_prediction_acc_vec' is not defined"
     ]
    }
   ],
   "source": [
    "# Creating a dataframe with our models and their performances metrics\n",
    "classifier_scores = {'Classifiers':['Naive Bayes Multinomial Model', 'Decision Tree', 'Random Forest','LinearSVC',\n",
    "                                    'Logistic Regression','Stochastic Gradient Descent',\n",
    "                                    'Support Vector Classifier','Ridge Classifier'],\n",
    "                    'Accuracy on CV':[nbm_acc_vec, tree_prediction_acc_vec,random_forest_acc_vec,\n",
    "                                Lsvc_acc_vec,logreg_acc_vec, SGD_acc_vec, SVC_acc_vec, ridge_acc_vec],\n",
    "                     'F1 Score on CV':[nbm_f1_vec, tree_prediction_f1_vec,random_forest_f1_vec,\n",
    "                                       Lsvc_f1_vec,logreg_f1_vec, SGD_f1_vec, SVC_f1_vec, ridge_f1_vec],\n",
    "                    'Accuracy on TFIDF':[nbm_acc_tf, decison_tree_acc_tf,random_forest_acc_tf,\n",
    "                                Lsvc_acc_tf,logreg_acc_tf, SGD_acc_tf, SVC_acc_tf, ridge_acc_tf],\n",
    "                     'F1 Score on TFIDF':[nbm_f1_tf, tree_prediction_f1_vec,random_forest_acc_f1_tf,\n",
    "                                       Lsvc_acc_f1_tf,logreg_acc_f1_tf, SGD_acc_f1_tf, SVC_acc_f1_tf, ridge_acc_f1_tf]}\n",
    "df= pd.DataFrame(classifier_scores)\n",
    "df.sort_values(by=['F1 Score on CV'],ascending=False, inplace = True)\n",
    "df"
   ]
  },
  {
   "cell_type": "code",
   "execution_count": 77,
   "metadata": {},
   "outputs": [
    {
     "ename": "NameError",
     "evalue": "name 'df' is not defined",
     "output_type": "error",
     "traceback": [
      "\u001b[1;31m---------------------------------------------------------------------------\u001b[0m",
      "\u001b[1;31mNameError\u001b[0m                                 Traceback (most recent call last)",
      "\u001b[1;32m<ipython-input-77-3c4bf789d855>\u001b[0m in \u001b[0;36m<module>\u001b[1;34m\u001b[0m\n\u001b[1;32m----> 1\u001b[1;33m \u001b[0mdf\u001b[0m\u001b[1;33m.\u001b[0m\u001b[0mset_index\u001b[0m\u001b[1;33m(\u001b[0m\u001b[0mdf\u001b[0m\u001b[1;33m[\u001b[0m\u001b[1;34m'Classifiers'\u001b[0m\u001b[1;33m]\u001b[0m\u001b[1;33m,\u001b[0m \u001b[0minplace\u001b[0m \u001b[1;33m=\u001b[0m \u001b[1;32mTrue\u001b[0m\u001b[1;33m)\u001b[0m\u001b[1;33m\u001b[0m\u001b[1;33m\u001b[0m\u001b[0m\n\u001b[0m\u001b[0;32m      2\u001b[0m \u001b[0mdf\u001b[0m\u001b[1;33m.\u001b[0m\u001b[0mdrop\u001b[0m\u001b[1;33m(\u001b[0m\u001b[1;33m[\u001b[0m\u001b[1;34m'Classifiers'\u001b[0m\u001b[1;33m]\u001b[0m\u001b[1;33m,\u001b[0m\u001b[0maxis\u001b[0m \u001b[1;33m=\u001b[0m \u001b[1;36m1\u001b[0m\u001b[1;33m)\u001b[0m\u001b[1;33m\u001b[0m\u001b[1;33m\u001b[0m\u001b[0m\n\u001b[0;32m      3\u001b[0m \u001b[0mdf\u001b[0m\u001b[1;33m.\u001b[0m\u001b[0mplot\u001b[0m\u001b[1;33m(\u001b[0m\u001b[0mkind\u001b[0m\u001b[1;33m=\u001b[0m\u001b[1;34m'barh'\u001b[0m\u001b[1;33m,\u001b[0m \u001b[0mfigsize\u001b[0m \u001b[1;33m=\u001b[0m \u001b[1;33m(\u001b[0m\u001b[1;36m8\u001b[0m\u001b[1;33m,\u001b[0m\u001b[1;36m8\u001b[0m\u001b[1;33m)\u001b[0m\u001b[1;33m)\u001b[0m\u001b[1;33m\u001b[0m\u001b[1;33m\u001b[0m\u001b[0m\n\u001b[0;32m      4\u001b[0m \u001b[0mplt\u001b[0m\u001b[1;33m.\u001b[0m\u001b[0mxlabel\u001b[0m\u001b[1;33m(\u001b[0m\u001b[1;34m'Score'\u001b[0m\u001b[1;33m)\u001b[0m\u001b[1;33m\u001b[0m\u001b[1;33m\u001b[0m\u001b[0m\n\u001b[0;32m      5\u001b[0m \u001b[0mplt\u001b[0m\u001b[1;33m.\u001b[0m\u001b[0myticks\u001b[0m\u001b[1;33m(\u001b[0m\u001b[0mrotation\u001b[0m \u001b[1;33m=\u001b[0m \u001b[1;36m45\u001b[0m\u001b[1;33m)\u001b[0m\u001b[1;33m\u001b[0m\u001b[1;33m\u001b[0m\u001b[0m\n",
      "\u001b[1;31mNameError\u001b[0m: name 'df' is not defined"
     ]
    }
   ],
   "source": [
    "df.set_index(df['Classifiers'], inplace = True)\n",
    "df.drop(['Classifiers'],axis = 1)\n",
    "df.plot(kind='barh', figsize = (8,8))\n",
    "plt.xlabel('Score')\n",
    "plt.yticks(rotation = 45)\n",
    "plt.title('Classifier Perfomance')\n",
    "plt.legend(bbox_to_anchor=(1.05, 1.0), loc='upper left')\n",
    "plt.show()"
   ]
  },
  {
   "cell_type": "markdown",
   "metadata": {},
   "source": [
    "#### Model Ensemblement"
   ]
  },
  {
   "cell_type": "code",
   "execution_count": 78,
   "metadata": {},
   "outputs": [],
   "source": [
    "\n",
    "models = [(\"Naive Bayes Multinomial\",nbm_count), (\"LinearSVC\", Lsvc_count),(\"Ridge Classified\",ridge_count)]\n",
    "\n",
    "# Specify weights for weighted model averaging\n",
    "model_weightings = np.array([0.1,0.3,0.6])\n",
    "\n",
    "# building the voting classifier\n",
    "Voting_classifier = VotingClassifier(estimators=models,weights=model_weightings)"
   ]
  },
  {
   "cell_type": "code",
   "execution_count": 79,
   "metadata": {},
   "outputs": [],
   "source": [
    "# training and validate the voting classifier\n",
    "Voting_classifier.fit(X_train, y_train)\n",
    "voting_prediction = Voting_classifier.predict(X_val)"
   ]
  },
  {
   "cell_type": "markdown",
   "metadata": {},
   "source": [
    "### Ensemblement Evaluation"
   ]
  },
  {
   "cell_type": "code",
   "execution_count": 80,
   "metadata": {},
   "outputs": [
    {
     "name": "stdout",
     "output_type": "stream",
     "text": [
      "\n",
      "Voting Classifier Classification report :\n",
      "               precision    recall  f1-score   support\n",
      "\n",
      "         afr       1.00      1.00      1.00       583\n",
      "         eng       1.00      1.00      1.00       615\n",
      "         nbl       1.00      0.98      0.99       583\n",
      "         nso       1.00      0.99      1.00       625\n",
      "         sot       0.99      1.00      1.00       618\n",
      "         ssw       0.99      0.99      0.99       584\n",
      "         tsn       1.00      1.00      1.00       598\n",
      "         tso       1.00      1.00      1.00       561\n",
      "         ven       1.00      1.00      1.00       634\n",
      "         xho       1.00      0.99      1.00       609\n",
      "         zul       0.97      0.99      0.98       590\n",
      "\n",
      "    accuracy                           1.00      6600\n",
      "   macro avg       1.00      1.00      1.00      6600\n",
      "weighted avg       1.00      1.00      1.00      6600\n",
      "\n"
     ]
    },
    {
     "data": {
      "image/png": "[encoded data removed]",
      "text/plain": [
       "<Figure size 576x576 with 2 Axes>"
      ]
     },
     "metadata": {
      "needs_background": "light"
     },
     "output_type": "display_data"
    }
   ],
   "source": [
    "# The classification report \n",
    "print('\\nVoting Classifier Classification report :\\n', classification_report(y_val, voting_prediction))\n",
    "plot_confusion_matrix(y_val, voting_prediction, normalize=True,figsize=(8,8),cmap='Purples')\n",
    "plt.title('Voting Classifier')\n",
    "plt.show()"
   ]
  },
  {
   "cell_type": "markdown",
   "metadata": {},
   "source": [
    "#### Comments"
   ]
  },
  {
   "cell_type": "markdown",
   "metadata": {},
   "source": [
    "A lot more languages are incorrectly predicted on the validatation set."
   ]
  },
  {
   "cell_type": "code",
   "execution_count": 82,
   "metadata": {},
   "outputs": [
    {
     "data": {
      "text/html": [
       "<div>\n",
       "<style scoped>\n",
       "    .dataframe tbody tr th:only-of-type {\n",
       "        vertical-align: middle;\n",
       "    }\n",
       "\n",
       "    .dataframe tbody tr th {\n",
       "        vertical-align: top;\n",
       "    }\n",
       "\n",
       "    .dataframe thead th {\n",
       "        text-align: right;\n",
       "    }\n",
       "</style>\n",
       "<table border=\"1\" class=\"dataframe\">\n",
       "  <thead>\n",
       "    <tr style=\"text-align: right;\">\n",
       "      <th></th>\n",
       "      <th>index</th>\n",
       "      <th>lang_id</th>\n",
       "    </tr>\n",
       "  </thead>\n",
       "  <tbody>\n",
       "    <tr>\n",
       "      <th>0</th>\n",
       "      <td>1</td>\n",
       "      <td>tsn</td>\n",
       "    </tr>\n",
       "    <tr>\n",
       "      <th>1</th>\n",
       "      <td>2</td>\n",
       "      <td>nbl</td>\n",
       "    </tr>\n",
       "    <tr>\n",
       "      <th>2</th>\n",
       "      <td>3</td>\n",
       "      <td>ven</td>\n",
       "    </tr>\n",
       "    <tr>\n",
       "      <th>3</th>\n",
       "      <td>4</td>\n",
       "      <td>ssw</td>\n",
       "    </tr>\n",
       "    <tr>\n",
       "      <th>4</th>\n",
       "      <td>5</td>\n",
       "      <td>zul</td>\n",
       "    </tr>\n",
       "    <tr>\n",
       "      <th>...</th>\n",
       "      <td>...</td>\n",
       "      <td>...</td>\n",
       "    </tr>\n",
       "    <tr>\n",
       "      <th>5677</th>\n",
       "      <td>5678</td>\n",
       "      <td>afr</td>\n",
       "    </tr>\n",
       "    <tr>\n",
       "      <th>5678</th>\n",
       "      <td>5679</td>\n",
       "      <td>nso</td>\n",
       "    </tr>\n",
       "    <tr>\n",
       "      <th>5679</th>\n",
       "      <td>5680</td>\n",
       "      <td>sot</td>\n",
       "    </tr>\n",
       "    <tr>\n",
       "      <th>5680</th>\n",
       "      <td>5681</td>\n",
       "      <td>sot</td>\n",
       "    </tr>\n",
       "    <tr>\n",
       "      <th>5681</th>\n",
       "      <td>5682</td>\n",
       "      <td>ssw</td>\n",
       "    </tr>\n",
       "  </tbody>\n",
       "</table>\n",
       "<p>5682 rows × 2 columns</p>\n",
       "</div>"
      ],
      "text/plain": [
       "      index lang_id\n",
       "0         1     tsn\n",
       "1         2     nbl\n",
       "2         3     ven\n",
       "3         4     ssw\n",
       "4         5     zul\n",
       "...     ...     ...\n",
       "5677   5678     afr\n",
       "5678   5679     nso\n",
       "5679   5680     sot\n",
       "5680   5681     sot\n",
       "5681   5682     ssw\n",
       "\n",
       "[5682 rows x 2 columns]"
      ]
     },
     "execution_count": 82,
     "metadata": {},
     "output_type": "execute_result"
    }
   ],
   "source": [
    "#Final Submission\n",
    "\n",
    "y_pred = Voting_classifier.predict(X_test)\n",
    "test['lang_id'] = y_pred\n",
    "#test[['index','lang_id']].to_csv('Xichavo_Hobyani_Classf_hack.csv', index=False)\n",
    "test[['index','lang_id']]"
   ]
  },
  {
   "cell_type": "markdown",
   "metadata": {},
   "source": [
    "# Conclusions"
   ]
  },
  {
   "cell_type": "markdown",
   "metadata": {},
   "source": [
    "\n",
    "All models perform relatively well on the train data, with all giving a score above 90% when being validated. However, the performace drops significantly for the unseen data when a submission is made on Kaggle. The best model; Naive Bayes Multinomial, performs at 99,76% F1 accuracy score on using TFIDF however this translates to 94% accuracy on Kaggle which it the best submission made, by far.\n",
    "\n",
    "The models are overfitting and more work will be done to improve them for later submissions. A lot more experiments were done on this challenge but they were removed for the purpose of submitting this notebook"
   ]
  }
 ],
 "metadata": {
  "kernelspec": {
   "display_name": "Python 3",
   "language": "python",
   "name": "python3"
  },
  "language_info": {
   "codemirror_mode": {
    "name": "ipython",
    "version": 3
   },
   "file_extension": ".py",
   "mimetype": "text/x-python",
   "name": "python",
   "nbconvert_exporter": "python",
   "pygments_lexer": "ipython3",
   "version": "3.8.5"
  }
 },
 "nbformat": 4,
 "nbformat_minor": 4
}
